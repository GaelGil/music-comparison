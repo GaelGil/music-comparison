{
 "cells": [
  {
   "cell_type": "code",
   "execution_count": 1,
   "id": "74a7a8ed-c023-490b-8b3d-6f012329b83d",
   "metadata": {},
   "outputs": [
    {
     "name": "stderr",
     "output_type": "stream",
     "text": [
      "C:\\Users\\Gael Gil\\Desktop\\git-repos\\music-comparison\\env\\lib\\site-packages\\tqdm\\auto.py:22: TqdmWarning: IProgress not found. Please update jupyter and ipywidgets. See https://ipywidgets.readthedocs.io/en/stable/user_install.html\n",
      "  from .autonotebook import tqdm as notebook_tqdm\n"
     ]
    }
   ],
   "source": [
    "import os\n",
    "import tensorflow as tf\n",
    "import tensorflow_datasets as tfds\n",
    "import tensorflow"
   ]
  },
  {
   "cell_type": "code",
   "execution_count": 2,
   "id": "c79511c3-42dd-4c98-8345-33a741f1821e",
   "metadata": {},
   "outputs": [],
   "source": [
    "os.environ['CUDA_DEVICE_ORDER'] = 'PCI_BUS_ID'\n",
    "os.environ['CUDA_VISIBLE_DEVICES']= '0'"
   ]
  },
  {
   "cell_type": "code",
   "execution_count": 3,
   "id": "8c28e4ec-45a1-4713-baee-b369698eaff0",
   "metadata": {},
   "outputs": [],
   "source": [
    "raw_image_dataset = tf.data.TFRecordDataset(r'D:\\Program Files\\data\\nsynth-test.tfrecord', compression_type=None, buffer_size=None, num_parallel_reads=None, name=None)"
   ]
  },
  {
   "cell_type": "code",
   "execution_count": 14,
   "id": "a22fa0e6-7513-49de-9d6d-7ce6eaa6b3e2",
   "metadata": {},
   "outputs": [],
   "source": [
    "# Create a dictionary describing the features.\n",
    "image_feature_description = {\n",
    "    'note': tf.io.FixedLenFeature([], tf.int64),\n",
    "    'note_str': tf.io.FixedLenFeature([], tf.string),\n",
    "    'instrument': tf.io.FixedLenFeature([], tf.int64),\n",
    "    'instrument_str': tf.io.FixedLenFeature([], tf.string),\n",
    "    'audio':tf.io.FixedLenFeature([64000], tf.float32),\n",
    "    'instrument_source': tf.io.FixedLenFeature([], tf.int64),\n",
    "    'instrument_source_str': tf.io.FixedLenFeature([], tf.string),\n",
    "}"
   ]
  },
  {
   "cell_type": "code",
   "execution_count": 15,
   "id": "3cec515b-d55c-4477-b88b-de1a88f72bfd",
   "metadata": {},
   "outputs": [],
   "source": [
    "def _parse_image_function(example_proto):\n",
    "  # Parse the input tf.train.Example proto using the dictionary above.\n",
    "  return tf.io.parse_single_example(example_proto, image_feature_description)"
   ]
  },
  {
   "cell_type": "code",
   "execution_count": 16,
   "id": "535640d1-610a-4fb1-b864-0970c87490c4",
   "metadata": {},
   "outputs": [
    {
     "data": {
      "text/plain": [
       "<MapDataset element_spec={'audio': TensorSpec(shape=(64000,), dtype=tf.float32, name=None), 'instrument': TensorSpec(shape=(), dtype=tf.int64, name=None), 'instrument_source': TensorSpec(shape=(), dtype=tf.int64, name=None), 'instrument_source_str': TensorSpec(shape=(), dtype=tf.string, name=None), 'instrument_str': TensorSpec(shape=(), dtype=tf.string, name=None), 'note': TensorSpec(shape=(), dtype=tf.int64, name=None), 'note_str': TensorSpec(shape=(), dtype=tf.string, name=None)}>"
      ]
     },
     "execution_count": 16,
     "metadata": {},
     "output_type": "execute_result"
    }
   ],
   "source": [
    "parsed_image_dataset = raw_image_dataset.map(_parse_image_function)\n",
    "parsed_image_dataset"
   ]
  },
  {
   "cell_type": "code",
   "execution_count": 33,
   "id": "4e89ad7b-49c1-42de-ba10-d69361cafc21",
   "metadata": {},
   "outputs": [],
   "source": [
    "for image_features in parsed_image_dataset:\n",
    "    image_raw = image_features['audio'].numpy()\n",
    "    print(image_raw)\n",
    "    "
   ]
  },
  {
   "cell_type": "code",
   "execution_count": 34,
   "id": "be9a30d1-d549-456b-b6a3-7e6d84e8f7b8",
   "metadata": {},
   "outputs": [
    {
     "data": {
      "text/plain": [
       "array([ 0.00048158, -0.00094423,  0.0016951 , ..., -0.00055527,\n",
       "        0.00055187, -0.00053985], dtype=float32)"
      ]
     },
     "execution_count": 34,
     "metadata": {},
     "output_type": "execute_result"
    }
   ],
   "source": [
    "image_raw"
   ]
  },
  {
   "cell_type": "code",
   "execution_count": 35,
   "id": "782163bc-9097-4668-ba4a-abe004948f3a",
   "metadata": {},
   "outputs": [],
   "source": [
    "import numpy as np\n",
    "import pandas as pd\n",
    "import tensorflow as tf \n",
    "import tensorflow_io as tfio\n",
    "import matplotlib.pyplot as plt"
   ]
  },
  {
   "cell_type": "code",
   "execution_count": 36,
   "id": "f0342e55-02c8-440c-98f6-6242f915ba70",
   "metadata": {},
   "outputs": [
    {
     "data": {
      "image/png": "[encoded data removed]",
      "text/plain": [
       "<Figure size 432x288 with 1 Axes>"
      ]
     },
     "metadata": {
      "needs_background": "light"
     },
     "output_type": "display_data"
    }
   ],
   "source": [
    "plt.title(\"Signal Wave...\")\n",
    "plt.plot(image_raw)\n",
    "plt.show()"
   ]
  },
  {
   "cell_type": "code",
   "execution_count": null,
   "id": "7770ca25-5761-48b9-9b96-a5f254c078ab",
   "metadata": {},
   "outputs": [],
   "source": []
  },
  {
   "cell_type": "code",
   "execution_count": null,
   "id": "0c710aa5-6b13-4263-8dd6-7bd7ef0401ac",
   "metadata": {},
   "outputs": [],
   "source": []
  }
 ],
 "metadata": {
  "kernelspec": {
   "display_name": "Python 3 (ipykernel)",
   "language": "python",
   "name": "python3"
  },
  "language_info": {
   "codemirror_mode": {
    "name": "ipython",
    "version": 3
   },
   "file_extension": ".py",
   "mimetype": "text/x-python",
   "name": "python",
   "nbconvert_exporter": "python",
   "pygments_lexer": "ipython3",
   "version": "3.10.4"
  }
 },
 "nbformat": 4,
 "nbformat_minor": 5
}
