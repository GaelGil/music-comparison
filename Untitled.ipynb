{
 "cells": [
  {
   "cell_type": "code",
   "execution_count": 1,
   "id": "74a7a8ed-c023-490b-8b3d-6f012329b83d",
   "metadata": {},
   "outputs": [
    {
     "name": "stderr",
     "output_type": "stream",
     "text": [
      "C:\\Users\\Gael Gil\\Desktop\\git-repos\\music-comparison\\env\\lib\\site-packages\\tqdm\\auto.py:22: TqdmWarning: IProgress not found. Please update jupyter and ipywidgets. See https://ipywidgets.readthedocs.io/en/stable/user_install.html\n",
      "  from .autonotebook import tqdm as notebook_tqdm\n"
     ]
    }
   ],
   "source": [
    "import os\n",
    "import numpy as np\n",
    "import pandas as pd\n",
    "import tensorflow as tf \n",
    "import tensorflow_io as tfio\n",
    "import tensorflow_datasets as tfds\n",
    "import matplotlib.pyplot as plt"
   ]
  },
  {
   "cell_type": "code",
   "execution_count": 2,
   "id": "c79511c3-42dd-4c98-8345-33a741f1821e",
   "metadata": {},
   "outputs": [],
   "source": [
    "os.environ['CUDA_DEVICE_ORDER'] = 'PCI_BUS_ID'\n",
    "os.environ['CUDA_VISIBLE_DEVICES']= '0'"
   ]
  },
  {
   "cell_type": "code",
   "execution_count": 3,
   "id": "8c28e4ec-45a1-4713-baee-b369698eaff0",
   "metadata": {},
   "outputs": [],
   "source": [
    "raw_image_dataset = tf.data.TFRecordDataset(r'D:\\Program Files\\data\\nsynth-test.tfrecord', compression_type=None, buffer_size=None, num_parallel_reads=None, name=None)"
   ]
  },
  {
   "cell_type": "code",
   "execution_count": 4,
   "id": "a22fa0e6-7513-49de-9d6d-7ce6eaa6b3e2",
   "metadata": {},
   "outputs": [],
   "source": [
    "# Create a dictionary describing the features.\n",
    "image_feature_description = {\n",
    "    'note': tf.io.FixedLenFeature([], tf.int64),\n",
    "    'note_str': tf.io.FixedLenFeature([], tf.string),\n",
    "    'instrument': tf.io.FixedLenFeature([], tf.int64),\n",
    "    'instrument_str': tf.io.FixedLenFeature([], tf.string),\n",
    "    'audio':tf.io.FixedLenFeature([64000], tf.float32),\n",
    "    'instrument_source': tf.io.FixedLenFeature([], tf.int64),\n",
    "    'instrument_source_str': tf.io.FixedLenFeature([], tf.string),\n",
    "    'instrument_family': tf.io.FixedLenFeature([], tf.int64),\n",
    "    'instrument_family_str': tf.io.FixedLenFeature([], tf.string),\n",
    "    'pitch': tf.io.FixedLenFeature([], tf.int64),\n",
    "    'velocity': tf.io.FixedLenFeature([], tf.int64),\n",
    "    'sample_rate': tf.io.FixedLenFeature([], tf.int64),\n",
    "}"
   ]
  },
  {
   "cell_type": "code",
   "execution_count": 5,
   "id": "3cec515b-d55c-4477-b88b-de1a88f72bfd",
   "metadata": {},
   "outputs": [],
   "source": [
    "def _parse_image_function(example_proto):\n",
    "  # Parse the input tf.train.Example proto using the dictionary above.\n",
    "  return tf.io.parse_single_example(example_proto, image_feature_description)"
   ]
  },
  {
   "cell_type": "code",
   "execution_count": 6,
   "id": "535640d1-610a-4fb1-b864-0970c87490c4",
   "metadata": {},
   "outputs": [
    {
     "data": {
      "text/plain": [
       "<MapDataset element_spec={'audio': TensorSpec(shape=(64000,), dtype=tf.float32, name=None), 'instrument': TensorSpec(shape=(), dtype=tf.int64, name=None), 'instrument_family': TensorSpec(shape=(), dtype=tf.int64, name=None), 'instrument_family_str': TensorSpec(shape=(), dtype=tf.string, name=None), 'instrument_source': TensorSpec(shape=(), dtype=tf.int64, name=None), 'instrument_source_str': TensorSpec(shape=(), dtype=tf.string, name=None), 'instrument_str': TensorSpec(shape=(), dtype=tf.string, name=None), 'note': TensorSpec(shape=(), dtype=tf.int64, name=None), 'note_str': TensorSpec(shape=(), dtype=tf.string, name=None), 'pitch': TensorSpec(shape=(), dtype=tf.int64, name=None), 'sample_rate': TensorSpec(shape=(), dtype=tf.int64, name=None), 'velocity': TensorSpec(shape=(), dtype=tf.int64, name=None)}>"
      ]
     },
     "execution_count": 6,
     "metadata": {},
     "output_type": "execute_result"
    }
   ],
   "source": [
    "parsed_image_dataset = raw_image_dataset.map(_parse_image_function)\n",
    "parsed_image_dataset"
   ]
  },
  {
   "cell_type": "code",
   "execution_count": 7,
   "id": "4e89ad7b-49c1-42de-ba10-d69361cafc21",
   "metadata": {},
   "outputs": [],
   "source": [
    "note = 0 \n",
    "note_str = 0\n",
    "instrument = 0\n",
    "instrument_str = 0\n",
    "audio = 0\n",
    "instrument_source = 0\n",
    "instrument_source_str = 0\n",
    "instrument_family = 0\n",
    "instrument_family_str = 0\n",
    "pitch = 0\n",
    "velocity = 0\n",
    "sample_rate = 0\n",
    "for image_features in parsed_image_dataset:\n",
    "    image_raw = image_features['instrument_family'].numpy()\n",
    "    if image_raw == 3:        \n",
    "        note = image_features['note'].numpy()\n",
    "        note_str = image_features['note_str'].numpy()\n",
    "        instrument = image_features['instrument'].numpy()\n",
    "        instrument_str = image_features['instrument_str'].numpy()\n",
    "        audio = image_features['audio'].numpy()\n",
    "        instrument_source =  image_features['instrument_source'].numpy()\n",
    "        instrument_source_str = image_features['instrument_source_str'].numpy()\n",
    "        instrument_family = image_features['instrument_family'].numpy()\n",
    "        instrument_family_str =  image_features['instrument_family_str'].numpy()\n",
    "        pitch = image_features['pitch'].numpy()\n",
    "        velocity = image_features['velocity'].numpy()\n",
    "        sample_rate = image_features['sample_rate'].numpy()\n",
    "    # print(image_raw)\n",
    "    "
   ]
  },
  {
   "cell_type": "code",
   "execution_count": 8,
   "id": "dafd0e05-c021-4a8b-bc69-d2cf33a21671",
   "metadata": {},
   "outputs": [
    {
     "data": {
      "text/plain": [
       "\"note: 205296, note_str: b'guitar_electronic_022-089-050'\""
      ]
     },
     "execution_count": 8,
     "metadata": {},
     "output_type": "execute_result"
    }
   ],
   "source": [
    "f'note: {note}, note_str: {note_str}'"
   ]
  },
  {
   "cell_type": "code",
   "execution_count": 9,
   "id": "4c1db1c5-4eb2-426d-b1f8-f2c6ab4d210f",
   "metadata": {},
   "outputs": [
    {
     "data": {
      "text/plain": [
       "\"instrument: 378, instrument_str: b'guitar_electronic_022'\""
      ]
     },
     "execution_count": 9,
     "metadata": {},
     "output_type": "execute_result"
    }
   ],
   "source": [
    "f'instrument: {instrument}, instrument_str: {instrument_str}'"
   ]
  },
  {
   "cell_type": "code",
   "execution_count": 10,
   "id": "c1dad938-6041-4a6d-9c37-f844546f8b5a",
   "metadata": {},
   "outputs": [
    {
     "data": {
      "text/plain": [
       "\"instrument_source: 1, instrument_source_str: b'electronic'\""
      ]
     },
     "execution_count": 10,
     "metadata": {},
     "output_type": "execute_result"
    }
   ],
   "source": [
    "f'instrument_source: {instrument_source}, instrument_source_str: {instrument_source_str}'"
   ]
  },
  {
   "cell_type": "code",
   "execution_count": 11,
   "id": "6348c706-547e-4d0e-b26f-6ddceb0958af",
   "metadata": {},
   "outputs": [
    {
     "data": {
      "text/plain": [
       "\"instrument_family: 3, instrument_family_str: b'guitar'\""
      ]
     },
     "execution_count": 11,
     "metadata": {},
     "output_type": "execute_result"
    }
   ],
   "source": [
    "f'instrument_family: {instrument_family}, instrument_family_str: {instrument_family_str}'"
   ]
  },
  {
   "cell_type": "code",
   "execution_count": 12,
   "id": "77516634-4471-4899-9fb5-80ea72b8dd1b",
   "metadata": {},
   "outputs": [
    {
     "data": {
      "text/plain": [
       "'pitch: 89, velocity: 50, sample_rate: 16000'"
      ]
     },
     "execution_count": 12,
     "metadata": {},
     "output_type": "execute_result"
    }
   ],
   "source": [
    "f'pitch: {pitch}, velocity: {velocity}, sample_rate: {sample_rate}'"
   ]
  },
  {
   "cell_type": "code",
   "execution_count": 13,
   "id": "f0342e55-02c8-440c-98f6-6242f915ba70",
   "metadata": {},
   "outputs": [
    {
     "data": {
      "image/png": "[encoded data removed]",
      "text/plain": [
       "<Figure size 432x288 with 1 Axes>"
      ]
     },
     "metadata": {
      "needs_background": "light"
     },
     "output_type": "display_data"
    }
   ],
   "source": [
    "plt.title(\"Signal Wave...\")\n",
    "plt.plot(audio)\n",
    "plt.show()"
   ]
  },
  {
   "cell_type": "code",
   "execution_count": null,
   "id": "7770ca25-5761-48b9-9b96-a5f254c078ab",
   "metadata": {},
   "outputs": [],
   "source": []
  },
  {
   "cell_type": "code",
   "execution_count": null,
   "id": "0c710aa5-6b13-4263-8dd6-7bd7ef0401ac",
   "metadata": {},
   "outputs": [],
   "source": []
  }
 ],
 "metadata": {
  "kernelspec": {
   "display_name": "Python 3 (ipykernel)",
   "language": "python",
   "name": "python3"
  },
  "language_info": {
   "codemirror_mode": {
    "name": "ipython",
    "version": 3
   },
   "file_extension": ".py",
   "mimetype": "text/x-python",
   "name": "python",
   "nbconvert_exporter": "python",
   "pygments_lexer": "ipython3",
   "version": "3.10.4"
  }
 },
 "nbformat": 4,
 "nbformat_minor": 5
}
