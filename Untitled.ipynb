{
 "cells": [
  {
   "cell_type": "code",
   "execution_count": 1,
   "id": "74a7a8ed-c023-490b-8b3d-6f012329b83d",
   "metadata": {},
   "outputs": [
    {
     "name": "stderr",
     "output_type": "stream",
     "text": [
      "C:\\Users\\Gael Gil\\Desktop\\git-repos\\music-comparison\\env\\lib\\site-packages\\tqdm\\auto.py:22: TqdmWarning: IProgress not found. Please update jupyter and ipywidgets. See https://ipywidgets.readthedocs.io/en/stable/user_install.html\n",
      "  from .autonotebook import tqdm as notebook_tqdm\n"
     ]
    }
   ],
   "source": [
    "import os\n",
    "import tensorflow as tf\n",
    "import tensorflow_datasets as tfds\n",
    "import tensorflow"
   ]
  },
  {
   "cell_type": "code",
   "execution_count": 2,
   "id": "9d867727-8b38-4692-8870-4f6058e3c013",
   "metadata": {},
   "outputs": [],
   "source": [
    "os.environ['CUDA_DEVICE_ORDER'] = 'PCI_BUS_ID'\n",
    "os.environ['CUDA_VISIBLE_DEVICES']= '0'"
   ]
  },
  {
   "cell_type": "code",
   "execution_count": 3,
   "id": "60877bc3-3e9d-4b20-961f-47f0824c2de2",
   "metadata": {},
   "outputs": [],
   "source": [
    "def map_fn(serialized_example):\n",
    "    feature = {\n",
    "        'note': tf.io.FixedLenFeature([], tf.int64),\n",
    "        'note_str': tf.io.FixedLenFeature([], tf.string),\n",
    "        'insrtument': tf.io.FixedLenFeature([], tf.int64),\n",
    "        'instrument_str': tf.io.FixedLenFeature([], tf.string),\n",
    "        'pitch': tf.io.FixedLenFeature([], tf.int64),\n",
    "        'velocity': tf.io.FixedLenFeature([], tf.int64), \n",
    "        'sample_rate': tf.io.FixedLenFeature([], tf.int64),\n",
    "        'audio*': tf.io.FixedLenFeature([], tf.float32),\n",
    "        'qualities': tf.io.FixedLenFeature([], tf.string),\n",
    "        'qualities_str': tf.io.FixedLenFeature([], tf.int64),\n",
    "        'instrument_family': tf.io.FixedLenFeature([], tf.int64),\n",
    "        'instrument_family_str': tf.io.FixedLenFeature([], tf.string),\n",
    "        'instrument_source': tf.io.FixedLenFeature([], tf.int64),\n",
    "        'instrument_source_str': tf.io.FixedLenFeature([], tf.string),\n",
    "    }\n",
    "    # print(serialized_example)\n",
    "    example = tf.io.parse_single_example(serialized_example, feature)\n",
    "    print(example['note'])\n",
    "    return example['note'], example['sample_rate']\n",
    "\n",
    "dataset = tf.data.TFRecordDataset(r'C:\\Users\\Gael Gil\\Downloads\\nsynth-test.tfrecord')"
   ]
  },
  {
   "cell_type": "code",
   "execution_count": null,
   "id": "00c48d03-1834-470e-a407-6dd82a2e8df3",
   "metadata": {},
   "outputs": [],
   "source": []
  },
  {
   "cell_type": "code",
   "execution_count": 18,
   "id": "c83b40fc-01c9-4eae-b41b-49541cdd55d8",
   "metadata": {},
   "outputs": [
    {
     "data": {
      "text/plain": [
       "<TFRecordDatasetV2 element_spec=TensorSpec(shape=(), dtype=tf.string, name=None)>"
      ]
     },
     "execution_count": 18,
     "metadata": {},
     "output_type": "execute_result"
    }
   ],
   "source": [
    "dataset"
   ]
  },
  {
   "cell_type": "code",
   "execution_count": null,
   "id": "a174a787-f68b-4d4b-b5cf-2c83e2a74625",
   "metadata": {},
   "outputs": [],
   "source": []
  }
 ],
 "metadata": {
  "kernelspec": {
   "display_name": "Python 3 (ipykernel)",
   "language": "python",
   "name": "python3"
  },
  "language_info": {
   "codemirror_mode": {
    "name": "ipython",
    "version": 3
   },
   "file_extension": ".py",
   "mimetype": "text/x-python",
   "name": "python",
   "nbconvert_exporter": "python",
   "pygments_lexer": "ipython3",
   "version": "3.10.4"
  }
 },
 "nbformat": 4,
 "nbformat_minor": 5
}
