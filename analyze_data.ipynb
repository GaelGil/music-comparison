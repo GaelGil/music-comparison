{
 "cells": [
  {
   "cell_type": "code",
   "execution_count": 2,
   "id": "075643ec-fd78-4ee3-85bf-8b772e2df948",
   "metadata": {},
   "outputs": [],
   "source": [
    "import matplotlib.pyplot as plt\n",
    "import numpy as np\n",
    "import pandas as pd"
   ]
  },
  {
   "cell_type": "code",
   "execution_count": 4,
   "id": "fd97c85f-56a4-41fa-974e-621b84ba0e73",
   "metadata": {},
   "outputs": [],
   "source": [
    "data = pd.read_csv('./data.csv')"
   ]
  },
  {
   "cell_type": "code",
   "execution_count": 5,
   "id": "f2207992-03b4-446d-8980-59ed1b36891c",
   "metadata": {},
   "outputs": [
    {
     "data": {
      "text/html": [
       "<div>\n",
       "<style scoped>\n",
       "    .dataframe tbody tr th:only-of-type {\n",
       "        vertical-align: middle;\n",
       "    }\n",
       "\n",
       "    .dataframe tbody tr th {\n",
       "        vertical-align: top;\n",
       "    }\n",
       "\n",
       "    .dataframe thead th {\n",
       "        text-align: right;\n",
       "    }\n",
       "</style>\n",
       "<table border=\"1\" class=\"dataframe\">\n",
       "  <thead>\n",
       "    <tr style=\"text-align: right;\">\n",
       "      <th></th>\n",
       "      <th>track_name</th>\n",
       "      <th>artist_name</th>\n",
       "      <th>preview</th>\n",
       "      <th>artist_genre</th>\n",
       "    </tr>\n",
       "  </thead>\n",
       "  <tbody>\n",
       "    <tr>\n",
       "      <th>0</th>\n",
       "      <td>ミスター</td>\n",
       "      <td>YOASOBI</td>\n",
       "      <td>./data/ミスター</td>\n",
       "      <td>['j-pop', 'japanese teen pop']</td>\n",
       "    </tr>\n",
       "    <tr>\n",
       "      <th>1</th>\n",
       "      <td>3月の帰り道</td>\n",
       "      <td>HIRAIDAI</td>\n",
       "      <td>./data/3月の帰り道</td>\n",
       "      <td>['j-pop', 'japanese singer-songwriter', 'japan...</td>\n",
       "    </tr>\n",
       "    <tr>\n",
       "      <th>2</th>\n",
       "      <td>キャラクター</td>\n",
       "      <td>Ryokuoushoku Shakai</td>\n",
       "      <td>./data/キャラクター</td>\n",
       "      <td>['j-pop']</td>\n",
       "    </tr>\n",
       "    <tr>\n",
       "      <th>3</th>\n",
       "      <td>残響散歌</td>\n",
       "      <td>Aimer</td>\n",
       "      <td>./data/残響散歌</td>\n",
       "      <td>['anime', 'anime rock', 'j-pixie', 'j-pop', 'j...</td>\n",
       "    </tr>\n",
       "    <tr>\n",
       "      <th>4</th>\n",
       "      <td>One</td>\n",
       "      <td>STUTS</td>\n",
       "      <td>./data/One</td>\n",
       "      <td>['j-rap']</td>\n",
       "    </tr>\n",
       "    <tr>\n",
       "      <th>...</th>\n",
       "      <td>...</td>\n",
       "      <td>...</td>\n",
       "      <td>...</td>\n",
       "      <td>...</td>\n",
       "    </tr>\n",
       "    <tr>\n",
       "      <th>3926</th>\n",
       "      <td>All Falls Down</td>\n",
       "      <td>Vitamin String Quartet</td>\n",
       "      <td>./data/All Falls Down</td>\n",
       "      <td>['bow pop']</td>\n",
       "    </tr>\n",
       "    <tr>\n",
       "      <th>3927</th>\n",
       "      <td>All The Stars - Piano Arrangement</td>\n",
       "      <td>Costantino Carrara</td>\n",
       "      <td>./data/All The Stars - Piano Arrangement</td>\n",
       "      <td>['classify', 'piano cover']</td>\n",
       "    </tr>\n",
       "    <tr>\n",
       "      <th>3928</th>\n",
       "      <td>Side to Side</td>\n",
       "      <td>Midnite String Quartet</td>\n",
       "      <td>./data/Side to Side</td>\n",
       "      <td>['bow pop']</td>\n",
       "    </tr>\n",
       "    <tr>\n",
       "      <th>3929</th>\n",
       "      <td>Africa</td>\n",
       "      <td>Peter Bence</td>\n",
       "      <td>./data/Africa</td>\n",
       "      <td>['classify', 'piano cover']</td>\n",
       "    </tr>\n",
       "    <tr>\n",
       "      <th>3930</th>\n",
       "      <td>Flames - Piano Arrangement</td>\n",
       "      <td>Costantino Carrara</td>\n",
       "      <td>./data/Flames - Piano Arrangement</td>\n",
       "      <td>['classify', 'piano cover']</td>\n",
       "    </tr>\n",
       "  </tbody>\n",
       "</table>\n",
       "<p>3931 rows × 4 columns</p>\n",
       "</div>"
      ],
      "text/plain": [
       "                             track_name             artist_name  \\\n",
       "0                                  ミスター                 YOASOBI   \n",
       "1                                3月の帰り道                HIRAIDAI   \n",
       "2                                キャラクター     Ryokuoushoku Shakai   \n",
       "3                                  残響散歌                   Aimer   \n",
       "4                                   One                   STUTS   \n",
       "...                                 ...                     ...   \n",
       "3926                     All Falls Down  Vitamin String Quartet   \n",
       "3927  All The Stars - Piano Arrangement      Costantino Carrara   \n",
       "3928                       Side to Side  Midnite String Quartet   \n",
       "3929                             Africa             Peter Bence   \n",
       "3930         Flames - Piano Arrangement      Costantino Carrara   \n",
       "\n",
       "                                       preview  \\\n",
       "0                                  ./data/ミスター   \n",
       "1                                ./data/3月の帰り道   \n",
       "2                                ./data/キャラクター   \n",
       "3                                  ./data/残響散歌   \n",
       "4                                   ./data/One   \n",
       "...                                        ...   \n",
       "3926                     ./data/All Falls Down   \n",
       "3927  ./data/All The Stars - Piano Arrangement   \n",
       "3928                       ./data/Side to Side   \n",
       "3929                             ./data/Africa   \n",
       "3930         ./data/Flames - Piano Arrangement   \n",
       "\n",
       "                                           artist_genre  \n",
       "0                        ['j-pop', 'japanese teen pop']  \n",
       "1     ['j-pop', 'japanese singer-songwriter', 'japan...  \n",
       "2                                             ['j-pop']  \n",
       "3     ['anime', 'anime rock', 'j-pixie', 'j-pop', 'j...  \n",
       "4                                             ['j-rap']  \n",
       "...                                                 ...  \n",
       "3926                                        ['bow pop']  \n",
       "3927                        ['classify', 'piano cover']  \n",
       "3928                                        ['bow pop']  \n",
       "3929                        ['classify', 'piano cover']  \n",
       "3930                        ['classify', 'piano cover']  \n",
       "\n",
       "[3931 rows x 4 columns]"
      ]
     },
     "execution_count": 5,
     "metadata": {},
     "output_type": "execute_result"
    }
   ],
   "source": [
    "data"
   ]
  },
  {
   "cell_type": "code",
   "execution_count": null,
   "id": "c762ec1b-10a0-4814-b654-88942bec4db5",
   "metadata": {},
   "outputs": [],
   "source": []
  },
  {
   "cell_type": "code",
   "execution_count": 7,
   "id": "322a2e04-1e4a-46c3-be51-d1559b9ee3e7",
   "metadata": {},
   "outputs": [
    {
     "data": {
      "image/png": "[encoded data removed]",
      "text/plain": [
       "<Figure size 432x288 with 1 Axes>"
      ]
     },
     "metadata": {
      "needs_background": "light"
     },
     "output_type": "display_data"
    }
   ],
   "source": [
    "plt.scatter(rock_data['duration'], rock_data['popularity'])\n",
    "plt.scatter(pop_data['duration'], pop_data['popularity'])\n",
    "plt.xlabel('duration')\n",
    "plt.ylabel('populairity')\n",
    "# plt.legend(loc=\"lower right\")\n",
    "plt.show()"
   ]
  },
  {
   "cell_type": "code",
   "execution_count": null,
   "id": "02316f3c-1c91-4be7-886d-84b517390b45",
   "metadata": {},
   "outputs": [],
   "source": []
  }
 ],
 "metadata": {
  "kernelspec": {
   "display_name": "Python 3 (ipykernel)",
   "language": "python",
   "name": "python3"
  },
  "language_info": {
   "codemirror_mode": {
    "name": "ipython",
    "version": 3
   },
   "file_extension": ".py",
   "mimetype": "text/x-python",
   "name": "python",
   "nbconvert_exporter": "python",
   "pygments_lexer": "ipython3",
   "version": "3.8.9"
  }
 },
 "nbformat": 4,
 "nbformat_minor": 5
}
