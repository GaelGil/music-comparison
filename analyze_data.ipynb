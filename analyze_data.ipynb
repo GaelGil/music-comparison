{
 "cells": [
  {
   "cell_type": "code",
   "execution_count": 27,
   "id": "075643ec-fd78-4ee3-85bf-8b772e2df948",
   "metadata": {},
   "outputs": [],
   "source": [
    "import matplotlib.pyplot as plt\n",
    "import numpy as np\n",
    "import pandas as pd\n",
    "import wave\n",
    "import gensim\n",
    "import soundfile as sf\n",
    "import torch\n",
    "from scipy.io import wavfile\n",
    "from datasets import load_dataset\n",
    "from transformers import Wav2Vec2ForCTC, Wav2Vec2Processor"
   ]
  },
  {
   "cell_type": "code",
   "execution_count": 20,
   "id": "fd97c85f-56a4-41fa-974e-621b84ba0e73",
   "metadata": {},
   "outputs": [],
   "source": [
    "df = pd.read_csv('./data.csv')"
   ]
  },
  {
   "cell_type": "code",
   "execution_count": 21,
   "id": "f2207992-03b4-446d-8980-59ed1b36891c",
   "metadata": {},
   "outputs": [
    {
     "data": {
      "text/html": [
       "<div>\n",
       "<style scoped>\n",
       "    .dataframe tbody tr th:only-of-type {\n",
       "        vertical-align: middle;\n",
       "    }\n",
       "\n",
       "    .dataframe tbody tr th {\n",
       "        vertical-align: top;\n",
       "    }\n",
       "\n",
       "    .dataframe thead th {\n",
       "        text-align: right;\n",
       "    }\n",
       "</style>\n",
       "<table border=\"1\" class=\"dataframe\">\n",
       "  <thead>\n",
       "    <tr style=\"text-align: right;\">\n",
       "      <th></th>\n",
       "      <th>track_name</th>\n",
       "      <th>artist_name</th>\n",
       "      <th>preview</th>\n",
       "      <th>artist_genre</th>\n",
       "    </tr>\n",
       "  </thead>\n",
       "  <tbody>\n",
       "    <tr>\n",
       "      <th>0</th>\n",
       "      <td>Ghost</td>\n",
       "      <td>Justin Bieber</td>\n",
       "      <td>./data/Ghost</td>\n",
       "      <td>canadian pop pop</td>\n",
       "    </tr>\n",
       "    <tr>\n",
       "      <th>1</th>\n",
       "      <td>Shivers</td>\n",
       "      <td>Ed Sheeran</td>\n",
       "      <td>./data/Shivers</td>\n",
       "      <td>pop uk pop</td>\n",
       "    </tr>\n",
       "    <tr>\n",
       "      <th>2</th>\n",
       "      <td>Heat Waves</td>\n",
       "      <td>Glass Animals</td>\n",
       "      <td>./data/Heat Waves</td>\n",
       "      <td>gauze pop indietronica shiver pop</td>\n",
       "    </tr>\n",
       "    <tr>\n",
       "      <th>3</th>\n",
       "      <td>THATS WHAT I WANT</td>\n",
       "      <td>Lil Nas X</td>\n",
       "      <td>./data/THATS WHAT I WANT</td>\n",
       "      <td>lgbtq+ hip hop pop</td>\n",
       "    </tr>\n",
       "    <tr>\n",
       "      <th>4</th>\n",
       "      <td>Enemy (with JID) - from the series Arcane Leag...</td>\n",
       "      <td>Imagine Dragons</td>\n",
       "      <td>./data/Enemy (with JID) - from the series Arca...</td>\n",
       "      <td>modern rock rock</td>\n",
       "    </tr>\n",
       "  </tbody>\n",
       "</table>\n",
       "</div>"
      ],
      "text/plain": [
       "                                          track_name      artist_name  \\\n",
       "0                                              Ghost    Justin Bieber   \n",
       "1                                            Shivers       Ed Sheeran   \n",
       "2                                         Heat Waves    Glass Animals   \n",
       "3                                  THATS WHAT I WANT        Lil Nas X   \n",
       "4  Enemy (with JID) - from the series Arcane Leag...  Imagine Dragons   \n",
       "\n",
       "                                             preview  \\\n",
       "0                                       ./data/Ghost   \n",
       "1                                     ./data/Shivers   \n",
       "2                                  ./data/Heat Waves   \n",
       "3                           ./data/THATS WHAT I WANT   \n",
       "4  ./data/Enemy (with JID) - from the series Arca...   \n",
       "\n",
       "                        artist_genre  \n",
       "0                   canadian pop pop  \n",
       "1                         pop uk pop  \n",
       "2  gauze pop indietronica shiver pop  \n",
       "3                 lgbtq+ hip hop pop  \n",
       "4                   modern rock rock  "
      ]
     },
     "execution_count": 21,
     "metadata": {},
     "output_type": "execute_result"
    }
   ],
   "source": [
    "df.head()"
   ]
  },
  {
   "cell_type": "code",
   "execution_count": 4,
   "id": "c762ec1b-10a0-4814-b654-88942bec4db5",
   "metadata": {},
   "outputs": [
    {
     "data": {
      "text/plain": [
       "'canadian pop pop'"
      ]
     },
     "execution_count": 4,
     "metadata": {},
     "output_type": "execute_result"
    }
   ],
   "source": [
    "df['artist_genre'][0]"
   ]
  },
  {
   "cell_type": "code",
   "execution_count": 5,
   "id": "322a2e04-1e4a-46c3-be51-d1559b9ee3e7",
   "metadata": {},
   "outputs": [],
   "source": [
    "# gensim.utils.simple_preprocess(df['track_name'][3])"
   ]
  },
  {
   "cell_type": "code",
   "execution_count": 6,
   "id": "02316f3c-1c91-4be7-886d-84b517390b45",
   "metadata": {},
   "outputs": [
    {
     "data": {
      "text/plain": [
       "0                                    [canadian, pop, pop]\n",
       "1                                          [pop, uk, pop]\n",
       "2                 [gauze, pop, indietronica, shiver, pop]\n",
       "3                                  [lgbtq, hip, hop, pop]\n",
       "4                                    [modern, rock, rock]\n",
       "                              ...                        \n",
       "3049                               [emo, pop, punk, rock]\n",
       "3050                [alternative, metal, pop, punk, rock]\n",
       "3051        [easycore, emo, pop, punk, punk, skate, punk]\n",
       "3052    [alternative, rock, blues, rock, garage, rock,...\n",
       "3053                      [grunge, permanent, wave, rock]\n",
       "Name: artist_genre, Length: 3054, dtype: object"
      ]
     },
     "execution_count": 6,
     "metadata": {},
     "output_type": "execute_result"
    }
   ],
   "source": [
    "artist_genre = df.artist_genre.apply(gensim.utils.simple_preprocess)\n",
    "artist_genre"
   ]
  },
  {
   "cell_type": "code",
   "execution_count": 7,
   "id": "90446a3a-b3a2-4983-b111-17e530fdad2a",
   "metadata": {},
   "outputs": [],
   "source": [
    "# model = gensim.models.Word2Vec(\n",
    "#     window=10,\n",
    "#     min_count=2,\n",
    "#     workers=4\n",
    "# )"
   ]
  },
  {
   "cell_type": "code",
   "execution_count": 8,
   "id": "135d3ffb-ac7a-4a76-bf7a-d0b5efd898fa",
   "metadata": {},
   "outputs": [],
   "source": [
    "# model.build_vocab(artist_genre, progress_per=1000)"
   ]
  },
  {
   "cell_type": "code",
   "execution_count": 9,
   "id": "1fd70fac-43e3-4881-9702-9d202ed1049f",
   "metadata": {},
   "outputs": [],
   "source": [
    "# model.epochs"
   ]
  },
  {
   "cell_type": "code",
   "execution_count": 10,
   "id": "4c44c931-31fc-48b9-8715-59fc54365ea8",
   "metadata": {},
   "outputs": [],
   "source": [
    "# model.corpus_count"
   ]
  },
  {
   "cell_type": "code",
   "execution_count": 11,
   "id": "fe954788-482a-4d15-b9f0-71086167de4f",
   "metadata": {},
   "outputs": [],
   "source": [
    "# model.train(artist_genre, total_examples=model.corpus_count, epochs=model.epochs)"
   ]
  },
  {
   "cell_type": "code",
   "execution_count": 12,
   "id": "ac9b0e5a-8538-4d66-91f8-ea118a318d04",
   "metadata": {},
   "outputs": [],
   "source": [
    "# model.save('./word_to_vec_artist_genre.model')\n",
    "model = gensim.models.Word2Vec.load('./word_to_vec_artist_genre.model')"
   ]
  },
  {
   "cell_type": "code",
   "execution_count": 13,
   "id": "685b4d7d-0209-41a9-81df-dbb9a7f63ab1",
   "metadata": {},
   "outputs": [
    {
     "data": {
      "text/plain": [
       "[('dance', 0.9937686920166016),\n",
       " ('teen', 0.9923031330108643),\n",
       " ('edm', 0.9889826774597168),\n",
       " ('uk', 0.9874886274337769),\n",
       " ('house', 0.9874818921089172),\n",
       " ('electropop', 0.9853269457817078),\n",
       " ('candy', 0.9844802021980286),\n",
       " ('viral', 0.9837290048599243),\n",
       " ('slap', 0.9835690855979919),\n",
       " ('electro', 0.9825674891471863)]"
      ]
     },
     "execution_count": 13,
     "metadata": {},
     "output_type": "execute_result"
    }
   ],
   "source": [
    "model.wv.most_similar('pop')"
   ]
  },
  {
   "cell_type": "code",
   "execution_count": 14,
   "id": "fd059cd1-2075-4f4f-a013-905594957428",
   "metadata": {},
   "outputs": [
    {
     "data": {
      "text/plain": [
       "0.93932027"
      ]
     },
     "execution_count": 14,
     "metadata": {},
     "output_type": "execute_result"
    }
   ],
   "source": [
    "model.wv.similarity(w1='canadian', w2='metal')"
   ]
  },
  {
   "cell_type": "code",
   "execution_count": 15,
   "id": "baa9e0df-2bee-494e-a2bd-8e1adb9adedf",
   "metadata": {},
   "outputs": [
    {
     "data": {
      "text/plain": [
       "[('disco', 0.9991907477378845),\n",
       " ('quiet', 0.9991604685783386),\n",
       " ('storm', 0.9990485310554504),\n",
       " ('americana', 0.9990044832229614),\n",
       " ('drill', 0.9989538788795471),\n",
       " ('motown', 0.998943030834198),\n",
       " ('adult', 0.9988557696342468),\n",
       " ('ska', 0.9987288117408752),\n",
       " ('lo', 0.9986804127693176),\n",
       " ('and', 0.9986308217048645)]"
      ]
     },
     "execution_count": 15,
     "metadata": {},
     "output_type": "execute_result"
    }
   ],
   "source": [
    "model.wv.most_similar('jazz')"
   ]
  },
  {
   "cell_type": "code",
   "execution_count": 26,
   "id": "695782e8-ad48-449e-8388-843421d2e20c",
   "metadata": {},
   "outputs": [
    {
     "ename": "Error",
     "evalue": "file does not start with RIFF id",
     "output_type": "error",
     "traceback": [
      "\u001b[0;31m---------------------------------------------------------------------------\u001b[0m",
      "\u001b[0;31mError\u001b[0m                                     Traceback (most recent call last)",
      "Input \u001b[0;32mIn [26]\u001b[0m, in \u001b[0;36m<module>\u001b[0;34m\u001b[0m\n\u001b[0;32m----> 1\u001b[0m spf \u001b[38;5;241m=\u001b[39m \u001b[43mwave\u001b[49m\u001b[38;5;241;43m.\u001b[39;49m\u001b[43mopen\u001b[49m\u001b[43m(\u001b[49m\u001b[38;5;124;43m\"\u001b[39;49m\u001b[38;5;124;43m./other_data/1999.wav\u001b[39;49m\u001b[38;5;124;43m\"\u001b[39;49m\u001b[43m,\u001b[49m\u001b[43m \u001b[49m\u001b[38;5;124;43m\"\u001b[39;49m\u001b[38;5;124;43mr\u001b[39;49m\u001b[38;5;124;43m\"\u001b[39;49m\u001b[43m)\u001b[49m\n\u001b[1;32m      3\u001b[0m \u001b[38;5;66;03m# Extract Raw Audio from Wav File\u001b[39;00m\n\u001b[1;32m      4\u001b[0m signal \u001b[38;5;241m=\u001b[39m spf\u001b[38;5;241m.\u001b[39mreadframes(\u001b[38;5;241m-\u001b[39m\u001b[38;5;241m1\u001b[39m)\n",
      "File \u001b[0;32m/Library/Developer/CommandLineTools/Library/Frameworks/Python3.framework/Versions/3.8/lib/python3.8/wave.py:510\u001b[0m, in \u001b[0;36mopen\u001b[0;34m(f, mode)\u001b[0m\n\u001b[1;32m    508\u001b[0m         mode \u001b[38;5;241m=\u001b[39m \u001b[38;5;124m'\u001b[39m\u001b[38;5;124mrb\u001b[39m\u001b[38;5;124m'\u001b[39m\n\u001b[1;32m    509\u001b[0m \u001b[38;5;28;01mif\u001b[39;00m mode \u001b[38;5;129;01min\u001b[39;00m (\u001b[38;5;124m'\u001b[39m\u001b[38;5;124mr\u001b[39m\u001b[38;5;124m'\u001b[39m, \u001b[38;5;124m'\u001b[39m\u001b[38;5;124mrb\u001b[39m\u001b[38;5;124m'\u001b[39m):\n\u001b[0;32m--> 510\u001b[0m     \u001b[38;5;28;01mreturn\u001b[39;00m \u001b[43mWave_read\u001b[49m\u001b[43m(\u001b[49m\u001b[43mf\u001b[49m\u001b[43m)\u001b[49m\n\u001b[1;32m    511\u001b[0m \u001b[38;5;28;01melif\u001b[39;00m mode \u001b[38;5;129;01min\u001b[39;00m (\u001b[38;5;124m'\u001b[39m\u001b[38;5;124mw\u001b[39m\u001b[38;5;124m'\u001b[39m, \u001b[38;5;124m'\u001b[39m\u001b[38;5;124mwb\u001b[39m\u001b[38;5;124m'\u001b[39m):\n\u001b[1;32m    512\u001b[0m     \u001b[38;5;28;01mreturn\u001b[39;00m Wave_write(f)\n",
      "File \u001b[0;32m/Library/Developer/CommandLineTools/Library/Frameworks/Python3.framework/Versions/3.8/lib/python3.8/wave.py:164\u001b[0m, in \u001b[0;36mWave_read.__init__\u001b[0;34m(self, f)\u001b[0m\n\u001b[1;32m    162\u001b[0m \u001b[38;5;66;03m# else, assume it is an open file object already\u001b[39;00m\n\u001b[1;32m    163\u001b[0m \u001b[38;5;28;01mtry\u001b[39;00m:\n\u001b[0;32m--> 164\u001b[0m     \u001b[38;5;28;43mself\u001b[39;49m\u001b[38;5;241;43m.\u001b[39;49m\u001b[43minitfp\u001b[49m\u001b[43m(\u001b[49m\u001b[43mf\u001b[49m\u001b[43m)\u001b[49m\n\u001b[1;32m    165\u001b[0m \u001b[38;5;28;01mexcept\u001b[39;00m:\n\u001b[1;32m    166\u001b[0m     \u001b[38;5;28;01mif\u001b[39;00m \u001b[38;5;28mself\u001b[39m\u001b[38;5;241m.\u001b[39m_i_opened_the_file:\n",
      "File \u001b[0;32m/Library/Developer/CommandLineTools/Library/Frameworks/Python3.framework/Versions/3.8/lib/python3.8/wave.py:131\u001b[0m, in \u001b[0;36mWave_read.initfp\u001b[0;34m(self, file)\u001b[0m\n\u001b[1;32m    129\u001b[0m \u001b[38;5;28mself\u001b[39m\u001b[38;5;241m.\u001b[39m_file \u001b[38;5;241m=\u001b[39m Chunk(file, bigendian \u001b[38;5;241m=\u001b[39m \u001b[38;5;241m0\u001b[39m)\n\u001b[1;32m    130\u001b[0m \u001b[38;5;28;01mif\u001b[39;00m \u001b[38;5;28mself\u001b[39m\u001b[38;5;241m.\u001b[39m_file\u001b[38;5;241m.\u001b[39mgetname() \u001b[38;5;241m!=\u001b[39m \u001b[38;5;124mb\u001b[39m\u001b[38;5;124m'\u001b[39m\u001b[38;5;124mRIFF\u001b[39m\u001b[38;5;124m'\u001b[39m:\n\u001b[0;32m--> 131\u001b[0m     \u001b[38;5;28;01mraise\u001b[39;00m Error(\u001b[38;5;124m'\u001b[39m\u001b[38;5;124mfile does not start with RIFF id\u001b[39m\u001b[38;5;124m'\u001b[39m)\n\u001b[1;32m    132\u001b[0m \u001b[38;5;28;01mif\u001b[39;00m \u001b[38;5;28mself\u001b[39m\u001b[38;5;241m.\u001b[39m_file\u001b[38;5;241m.\u001b[39mread(\u001b[38;5;241m4\u001b[39m) \u001b[38;5;241m!=\u001b[39m \u001b[38;5;124mb\u001b[39m\u001b[38;5;124m'\u001b[39m\u001b[38;5;124mWAVE\u001b[39m\u001b[38;5;124m'\u001b[39m:\n\u001b[1;32m    133\u001b[0m     \u001b[38;5;28;01mraise\u001b[39;00m Error(\u001b[38;5;124m'\u001b[39m\u001b[38;5;124mnot a WAVE file\u001b[39m\u001b[38;5;124m'\u001b[39m)\n",
      "\u001b[0;31mError\u001b[0m: file does not start with RIFF id"
     ]
    }
   ],
   "source": [
    "from scipy.io import wavfile\n",
    "samplerate, data = wavfile.read('./other_data/1999.wav')\n",
    "\n",
    "\n",
    "# # If Stereo\n",
    "# if spf.getnchannels() == 2:\n",
    "#     print(\"Just mono files\")\n",
    "#     sys.exit(0)\n",
    "\n",
    "plt.figure(1)\n",
    "plt.title(\"Signal Wave...\")\n",
    "plt.plot(signal)\n",
    "plt.show()"
   ]
  },
  {
   "cell_type": "code",
   "execution_count": null,
   "id": "75018bba-bb5d-4837-a8cd-aa67688e054c",
   "metadata": {},
   "outputs": [],
   "source": []
  },
  {
   "cell_type": "code",
   "execution_count": null,
   "id": "5eae583f-2ca9-443d-80bd-84f1711331d4",
   "metadata": {},
   "outputs": [],
   "source": []
  },
  {
   "cell_type": "code",
   "execution_count": null,
   "id": "6c099e17-d281-4112-a34e-e145d343e2df",
   "metadata": {},
   "outputs": [],
   "source": []
  },
  {
   "cell_type": "code",
   "execution_count": null,
   "id": "61be2fe8-0a79-47b0-8853-4e5c09763ba0",
   "metadata": {},
   "outputs": [],
   "source": []
  }
 ],
 "metadata": {
  "kernelspec": {
   "display_name": "Python 3 (ipykernel)",
   "language": "python",
   "name": "python3"
  },
  "language_info": {
   "codemirror_mode": {
    "name": "ipython",
    "version": 3
   },
   "file_extension": ".py",
   "mimetype": "text/x-python",
   "name": "python",
   "nbconvert_exporter": "python",
   "pygments_lexer": "ipython3",
   "version": "3.8.9"
  }
 },
 "nbformat": 4,
 "nbformat_minor": 5
}
