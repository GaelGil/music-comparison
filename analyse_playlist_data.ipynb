{
 "cells": [
  {
   "cell_type": "code",
   "execution_count": 1,
   "id": "d522f205-db0a-462d-8559-c6c0dd7b44ab",
   "metadata": {},
   "outputs": [],
   "source": [
    "import matplotlib.pyplot as plt\n",
    "import numpy as np\n",
    "import pandas as pd\n",
    "import wave\n",
    "import gensim\n",
    "import soundfile as sf\n",
    "import torch\n",
    "from scipy.io import wavfile\n",
    "from datasets import load_dataset\n",
    "from transformers import Wav2Vec2ForCTC, Wav2Vec2Processor"
   ]
  },
  {
   "cell_type": "code",
   "execution_count": 3,
   "id": "37040fff-fa8f-44b7-b11c-0347d54d15ef",
   "metadata": {},
   "outputs": [],
   "source": [
    "df = pd.read_csv('./test.csv')"
   ]
  },
  {
   "cell_type": "code",
   "execution_count": 4,
   "id": "6f52f500-101e-451a-9c09-86ba3f3cfad4",
   "metadata": {},
   "outputs": [
    {
     "data": {
      "text/plain": [
       "<bound method NDFrame.head of                playlist_id                                           playlist  \\\n",
       "0   37i9dQZF1DXcBWIGoYBM5M  ['Heat Waves Glass Animals', 'Ghost Justin Bie...   \n",
       "1   37i9dQZF1DX0kbJZpiYdZl  ['Big Energy Latto', 'Ghost Justin Bieber', 'H...   \n",
       "2   37i9dQZF1DX4JAvHpjipBk  ['CHICKEN TERIYAKI ROSALÍA', 'Usain Boo Kodak ...   \n",
       "3   37i9dQZF1DWUa8ZRTfalHk  ['Go Cat Burns', \"she's all i wanna be Tate Mc...   \n",
       "4   37i9dQZF1DX5Vy6DFOcx00  ['Mount Everest Labrinth', 'MIDDLE OF THE NIGH...   \n",
       "5   37i9dQZF1DX2L0iB23Enbq  ['TO THE MOON Jnr Choi', 'Toxic Pony ALTÉGO', ...   \n",
       "6   37i9dQZF1DX66m4icL86Ru  ['Big Energy Latto', 'Boyfriend Dove Cameron',...   \n",
       "7   37i9dQZF1DX5gQonLbZD9s  ['abc (The Wild Remix) GAYLE', 'Get Happy (NVD...   \n",
       "8   37i9dQZF1DX6OgmB2fwLGd  ['DIVE IN! JELEEL!', 'nyc BabySantana', '556 (...   \n",
       "9   37i9dQZF1DWTwnEm1IYyoj  ['All of Me John Legend', 'Watermelon Sugar Ha...   \n",
       "10  37i9dQZF1DXcF6B6QPhFDv  ['Bite Me Avril Lavigne', 'Loser Sueco', 'emo ...   \n",
       "11  37i9dQZF1DWVqJMsgEN0F4  ['Black Summer Red Hot Chili Peppers', 'Enemy ...   \n",
       "12  37i9dQZF1DX82GYcclJ3Ug  ['in the wake of your leave Gang of Youths', '...   \n",
       "13  37i9dQZF1DWT2jS7NwYPVI  ['Bad Habits (feat. Bring Me The Horizon) Ed S...   \n",
       "14  37i9dQZF1DWXRqgorJj26U  ['Dreams - 2004 Remaster Fleetwood Mac', \"Para...   \n",
       "15  37i9dQZF1DX3oM43CtKnRV  ['In the End Linkin Park', 'Boulevard of Broke...   \n",
       "16  37i9dQZF1DX1rVvRgjX59F  ['Smells Like Teen Spirit Nirvana', 'Basket Ca...   \n",
       "17  37i9dQZF1DX1spT6G94GFC  [\"Paradise City Guns N' Roses\", 'You Shook Me ...   \n",
       "18  37i9dQZF1DX9wa6XirBPv8  ['Teenagers My Chemical Romance', \"This Ain't ...   \n",
       "19  37i9dQZF1DXb3m918yXHxA  ['All Night Long (All Night) - Single Version ...   \n",
       "20  37i9dQZF1DXafb0IuPwJyF  ['ミスター YOASOBI', '3月の帰り道 HIRAIDAI', 'キャラクター Ry...   \n",
       "21  37i9dQZF1EQncLwOalG3K7  ['Bang Bang will.i.am', 'La Chica Del Bikini A...   \n",
       "22  6mtYuOxzl58vSGnEDtZ9uB  ['Into You Ariana Grande', 'Glad You Came The ...   \n",
       "23  37i9dQZF1DWUa8ZRTfalHk  ['Go Cat Burns', \"she's all i wanna be Tate Mc...   \n",
       "24  5TDtuKDbOhrfW7C58XnriZ  ['Heat Waves Glass Animals', 'Sacrifice The We...   \n",
       "25  37i9dQZF1DXa9wYJr1oMFq  ['The Rock Show blink-182', 'Basket Case Green...   \n",
       "26  37i9dQZF1DX5gQonLbZD9s  ['abc (The Wild Remix) GAYLE', 'Get Happy (NVD...   \n",
       "27  37i9dQZF1DWXti3N4Wp5xy  ['Gimme! Gimme! Gimme! (A Man After Midnight) ...   \n",
       "28  37i9dQZF1DWTwnEm1IYyoj  ['All of Me John Legend', 'Watermelon Sugar Ha...   \n",
       "29  37i9dQZF1DXcZDD7cfEKhW  ['All About You (feat. Foster The People) - Te...   \n",
       "30  37i9dQZF1DXafb0IuPwJyF  ['ミスター YOASOBI', '3月の帰り道 HIRAIDAI', 'キャラクター Ry...   \n",
       "31  37i9dQZF1EQpj7X7UK8OOF  ['We Are The Champions - Remastered 2011 Queen...   \n",
       "32  0yEcCNq14TkliXofOmyRKp  ['Speed of Sound Coldplay', 'Starlight Muse', ...   \n",
       "33  37i9dQZF1DWXRqgorJj26U  ['Dreams - 2004 Remaster Fleetwood Mac', \"Para...   \n",
       "34  21HmyJuLUMqWDxoJ3gh7jX  ['キャラクター Ryokuoushoku Shakai', '残響散歌 Aimer', '...   \n",
       "35  37i9dQZF1DXcF6B6QPhFDv  ['Bite Me Avril Lavigne', 'Loser Sueco', 'emo ...   \n",
       "36  37i9dQZF1DXb3m918yXHxA  ['All Night Long (All Night) - Single Version ...   \n",
       "37  6aZXupuDGcut00xXsbHIAz  ['Ruby Kaiser Chiefs', 'Speed of Sound Coldpla...   \n",
       "38  37i9dQZF1DWYN0zdqzbEwl  ['Llueve Sobre La Ciudad Los Bunkers', 'Florec...   \n",
       "39  3Da3yokTjSupbEd7QSE3Kg  ['Smells Like Teen Spirit Nirvana', 'In Bloom ...   \n",
       "\n",
       "   genre  \n",
       "0    pop  \n",
       "1    pop  \n",
       "2    pop  \n",
       "3    pop  \n",
       "4    pop  \n",
       "5    pop  \n",
       "6    pop  \n",
       "7    pop  \n",
       "8    pop  \n",
       "9    pop  \n",
       "10  rock  \n",
       "11  rock  \n",
       "12  rock  \n",
       "13  rock  \n",
       "14  rock  \n",
       "15  rock  \n",
       "16  rock  \n",
       "17  rock  \n",
       "18  rock  \n",
       "19  rock  \n",
       "20   pop  \n",
       "21   pop  \n",
       "22   pop  \n",
       "23   pop  \n",
       "24   pop  \n",
       "25   pop  \n",
       "26   pop  \n",
       "27   pop  \n",
       "28   pop  \n",
       "29   pop  \n",
       "30  rock  \n",
       "31  rock  \n",
       "32  rock  \n",
       "33  rock  \n",
       "34  rock  \n",
       "35  rock  \n",
       "36  rock  \n",
       "37  rock  \n",
       "38  rock  \n",
       "39  rock  >"
      ]
     },
     "execution_count": 4,
     "metadata": {},
     "output_type": "execute_result"
    }
   ],
   "source": [
    "df.head()"
   ]
  },
  {
   "cell_type": "code",
   "execution_count": null,
   "id": "6ea80c4c-74ca-4ce5-9fea-fdef205e70ea",
   "metadata": {},
   "outputs": [],
   "source": []
  }
 ],
 "metadata": {
  "kernelspec": {
   "display_name": "Python 3 (ipykernel)",
   "language": "python",
   "name": "python3"
  },
  "language_info": {
   "codemirror_mode": {
    "name": "ipython",
    "version": 3
   },
   "file_extension": ".py",
   "mimetype": "text/x-python",
   "name": "python",
   "nbconvert_exporter": "python",
   "pygments_lexer": "ipython3",
   "version": "3.8.9"
  }
 },
 "nbformat": 4,
 "nbformat_minor": 5
}
