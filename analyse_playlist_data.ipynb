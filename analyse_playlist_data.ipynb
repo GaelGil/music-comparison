{
 "cells": [
  {
   "cell_type": "code",
   "execution_count": 15,
   "id": "d522f205-db0a-462d-8559-c6c0dd7b44ab",
   "metadata": {},
   "outputs": [],
   "source": [
    "import string\n",
    "import re\n",
    "import matplotlib.pyplot as plt\n",
    "import numpy as np\n",
    "import pandas as pd\n",
    "import seaborn as sns\n",
    "from sklearn.metrics.pairwise import cosine_similarity\n",
    "from transformers import BertTokenizer, BertModel"
   ]
  },
  {
   "cell_type": "code",
   "execution_count": 2,
   "id": "37040fff-fa8f-44b7-b11c-0347d54d15ef",
   "metadata": {},
   "outputs": [],
   "source": [
    "df = pd.read_csv('./playlist_data.csv')"
   ]
  },
  {
   "cell_type": "code",
   "execution_count": 3,
   "id": "6f52f500-101e-451a-9c09-86ba3f3cfad4",
   "metadata": {},
   "outputs": [
    {
     "data": {
      "text/html": [
       "<div>\n",
       "<style scoped>\n",
       "    .dataframe tbody tr th:only-of-type {\n",
       "        vertical-align: middle;\n",
       "    }\n",
       "\n",
       "    .dataframe tbody tr th {\n",
       "        vertical-align: top;\n",
       "    }\n",
       "\n",
       "    .dataframe thead th {\n",
       "        text-align: right;\n",
       "    }\n",
       "</style>\n",
       "<table border=\"1\" class=\"dataframe\">\n",
       "  <thead>\n",
       "    <tr style=\"text-align: right;\">\n",
       "      <th></th>\n",
       "      <th>playlist_id</th>\n",
       "      <th>playlist</th>\n",
       "      <th>genre</th>\n",
       "    </tr>\n",
       "  </thead>\n",
       "  <tbody>\n",
       "    <tr>\n",
       "      <th>0</th>\n",
       "      <td>37i9dQZF1DXcBWIGoYBM5M</td>\n",
       "      <td>['Heat Waves Glass Animals', 'Ghost Justin Bie...</td>\n",
       "      <td>pop</td>\n",
       "    </tr>\n",
       "    <tr>\n",
       "      <th>1</th>\n",
       "      <td>37i9dQZF1DX0kbJZpiYdZl</td>\n",
       "      <td>['Big Energy Latto', 'Ghost Justin Bieber', 'H...</td>\n",
       "      <td>pop</td>\n",
       "    </tr>\n",
       "    <tr>\n",
       "      <th>2</th>\n",
       "      <td>37i9dQZF1DX4JAvHpjipBk</td>\n",
       "      <td>['CHICKEN TERIYAKI ROSALÍA', 'Usain Boo Kodak ...</td>\n",
       "      <td>pop</td>\n",
       "    </tr>\n",
       "    <tr>\n",
       "      <th>3</th>\n",
       "      <td>37i9dQZF1DWUa8ZRTfalHk</td>\n",
       "      <td>['Go Cat Burns', \"she's all i wanna be Tate Mc...</td>\n",
       "      <td>pop</td>\n",
       "    </tr>\n",
       "    <tr>\n",
       "      <th>4</th>\n",
       "      <td>37i9dQZF1DX5Vy6DFOcx00</td>\n",
       "      <td>['Mount Everest Labrinth', 'MIDDLE OF THE NIGH...</td>\n",
       "      <td>pop</td>\n",
       "    </tr>\n",
       "    <tr>\n",
       "      <th>...</th>\n",
       "      <td>...</td>\n",
       "      <td>...</td>\n",
       "      <td>...</td>\n",
       "    </tr>\n",
       "    <tr>\n",
       "      <th>195</th>\n",
       "      <td>37i9dQZF1DX6RbMTl2YnQ8</td>\n",
       "      <td>['Vía Láctea Zoé', 'Irresponsables Babasónicos...</td>\n",
       "      <td>rock</td>\n",
       "    </tr>\n",
       "    <tr>\n",
       "      <th>196</th>\n",
       "      <td>37i9dQZF1DXbFRZSqP41al</td>\n",
       "      <td>['Hash Pipe Weezer', 'Celebrity Skin Hole', 'A...</td>\n",
       "      <td>rock</td>\n",
       "    </tr>\n",
       "    <tr>\n",
       "      <th>197</th>\n",
       "      <td>37i9dQZF1DX9E1mLvTvD1f</td>\n",
       "      <td>['Bullet With Butterfly Wings - Remastered 201...</td>\n",
       "      <td>rock</td>\n",
       "    </tr>\n",
       "    <tr>\n",
       "      <th>198</th>\n",
       "      <td>37i9dQZF1DX8V6C5Nr1MvC</td>\n",
       "      <td>['Good Riddance (Time of Your Life) Green Day'...</td>\n",
       "      <td>rock</td>\n",
       "    </tr>\n",
       "    <tr>\n",
       "      <th>199</th>\n",
       "      <td>37i9dQZF1DX2sUQwD7tbmL</td>\n",
       "      <td>['Smile Wolf Alice', 'its alright :) Kevin Wal...</td>\n",
       "      <td>rock</td>\n",
       "    </tr>\n",
       "  </tbody>\n",
       "</table>\n",
       "<p>200 rows × 3 columns</p>\n",
       "</div>"
      ],
      "text/plain": [
       "                playlist_id  \\\n",
       "0    37i9dQZF1DXcBWIGoYBM5M   \n",
       "1    37i9dQZF1DX0kbJZpiYdZl   \n",
       "2    37i9dQZF1DX4JAvHpjipBk   \n",
       "3    37i9dQZF1DWUa8ZRTfalHk   \n",
       "4    37i9dQZF1DX5Vy6DFOcx00   \n",
       "..                      ...   \n",
       "195  37i9dQZF1DX6RbMTl2YnQ8   \n",
       "196  37i9dQZF1DXbFRZSqP41al   \n",
       "197  37i9dQZF1DX9E1mLvTvD1f   \n",
       "198  37i9dQZF1DX8V6C5Nr1MvC   \n",
       "199  37i9dQZF1DX2sUQwD7tbmL   \n",
       "\n",
       "                                              playlist genre  \n",
       "0    ['Heat Waves Glass Animals', 'Ghost Justin Bie...   pop  \n",
       "1    ['Big Energy Latto', 'Ghost Justin Bieber', 'H...   pop  \n",
       "2    ['CHICKEN TERIYAKI ROSALÍA', 'Usain Boo Kodak ...   pop  \n",
       "3    ['Go Cat Burns', \"she's all i wanna be Tate Mc...   pop  \n",
       "4    ['Mount Everest Labrinth', 'MIDDLE OF THE NIGH...   pop  \n",
       "..                                                 ...   ...  \n",
       "195  ['Vía Láctea Zoé', 'Irresponsables Babasónicos...  rock  \n",
       "196  ['Hash Pipe Weezer', 'Celebrity Skin Hole', 'A...  rock  \n",
       "197  ['Bullet With Butterfly Wings - Remastered 201...  rock  \n",
       "198  ['Good Riddance (Time of Your Life) Green Day'...  rock  \n",
       "199  ['Smile Wolf Alice', 'its alright :) Kevin Wal...  rock  \n",
       "\n",
       "[200 rows x 3 columns]"
      ]
     },
     "execution_count": 3,
     "metadata": {},
     "output_type": "execute_result"
    }
   ],
   "source": [
    "df"
   ]
  },
  {
   "cell_type": "code",
   "execution_count": 4,
   "id": "96ccc239-c36c-4a69-87c1-752737495a12",
   "metadata": {},
   "outputs": [],
   "source": [
    "playlists = [re.sub('[^a-zA-Z0-9 \\n\\.]', '', i) for i in df.playlist]"
   ]
  },
  {
   "cell_type": "code",
   "execution_count": 5,
   "id": "01ac97e0-828c-4b9f-816e-4ca85f2bc66f",
   "metadata": {},
   "outputs": [
    {
     "data": {
      "text/plain": [
       "'Heat Waves Glass Animals Ghost Justin Bieber MAMIII Becky G Shivers Ed Sheeran Enemy with JID  from the series Arcane League of Legends Imagine Dragons THATS WHAT I WANT Lil Nas X Infinity Jaymes Young STAY with Justin Bieber The Kid LAROI abcdefu GAYLE Cold Heart  PNAU Remix Elton John Woman Doja Cat INDUSTRY BABY feat. Jack Harlow Lil Nas X Light Switch Charlie Puth Boyfriend Dove Cameron Easy On Me Adele Where Are You Now Lost Frequencies love nwantiti ah ah ah CKay shes all i wanna be Tate McRae Bad Habits Ed Sheeran My Universe Coldplay Oh My God Adele TO THE MOON Jnr Choi Desesperados Rauw Alejandro Need to Know Doja Cat One Right Now with The Weeknd Post Malone Nail Tech Jack Harlow pushin P feat. Young Thug Gunna The Motto Tisto Pepas Farruko MIDDLE OF THE NIGHT Elley Duh I Love You So The Walters Happier Than Ever  Edit Billie Eilish CHICKEN TERIYAKI ROSALA Super Gremlin Kodak Black Sacrifice The Weeknd Fingers Crossed Lauren SpencerSmith The Joker And The Queen feat. Taylor Swift Ed Sheeran Do It To It ACRAZE Better Days NEIKED x Mae Muller x Polo G NEIKED Numb Little Bug Em Beihold Go Cat Burns High The Chainsmokers Down Under feat. Colin Hay Luude MONEY LISA good 4 u Olivia Rodrigo Hrs and Hrs Muni Long Toxic BoyWithUke Mon Amour  Remix zzoilo I Hate U SZA Cigarettes Juice WRLD'"
      ]
     },
     "execution_count": 5,
     "metadata": {},
     "output_type": "execute_result"
    }
   ],
   "source": [
    "playlists[0]"
   ]
  },
  {
   "cell_type": "code",
   "execution_count": 13,
   "id": "5aba8507-1380-4f87-b69d-900818ce5d5b",
   "metadata": {},
   "outputs": [],
   "source": [
    "df['clean'] = playlists"
   ]
  },
  {
   "cell_type": "code",
   "execution_count": 14,
   "id": "88ffff70-705a-45d2-9ccd-ad00d2c67f85",
   "metadata": {},
   "outputs": [
    {
     "data": {
      "text/html": [
       "<div>\n",
       "<style scoped>\n",
       "    .dataframe tbody tr th:only-of-type {\n",
       "        vertical-align: middle;\n",
       "    }\n",
       "\n",
       "    .dataframe tbody tr th {\n",
       "        vertical-align: top;\n",
       "    }\n",
       "\n",
       "    .dataframe thead th {\n",
       "        text-align: right;\n",
       "    }\n",
       "</style>\n",
       "<table border=\"1\" class=\"dataframe\">\n",
       "  <thead>\n",
       "    <tr style=\"text-align: right;\">\n",
       "      <th></th>\n",
       "      <th>playlist_id</th>\n",
       "      <th>playlist</th>\n",
       "      <th>genre</th>\n",
       "      <th>clean</th>\n",
       "    </tr>\n",
       "  </thead>\n",
       "  <tbody>\n",
       "    <tr>\n",
       "      <th>0</th>\n",
       "      <td>37i9dQZF1DXcBWIGoYBM5M</td>\n",
       "      <td>['Heat Waves Glass Animals', 'Ghost Justin Bie...</td>\n",
       "      <td>pop</td>\n",
       "      <td>Heat Waves Glass Animals Ghost Justin Bieber M...</td>\n",
       "    </tr>\n",
       "    <tr>\n",
       "      <th>1</th>\n",
       "      <td>37i9dQZF1DX0kbJZpiYdZl</td>\n",
       "      <td>['Big Energy Latto', 'Ghost Justin Bieber', 'H...</td>\n",
       "      <td>pop</td>\n",
       "      <td>Big Energy Latto Ghost Justin Bieber Heat Wave...</td>\n",
       "    </tr>\n",
       "    <tr>\n",
       "      <th>2</th>\n",
       "      <td>37i9dQZF1DX4JAvHpjipBk</td>\n",
       "      <td>['CHICKEN TERIYAKI ROSALÍA', 'Usain Boo Kodak ...</td>\n",
       "      <td>pop</td>\n",
       "      <td>CHICKEN TERIYAKI ROSALA Usain Boo Kodak Black ...</td>\n",
       "    </tr>\n",
       "    <tr>\n",
       "      <th>3</th>\n",
       "      <td>37i9dQZF1DWUa8ZRTfalHk</td>\n",
       "      <td>['Go Cat Burns', \"she's all i wanna be Tate Mc...</td>\n",
       "      <td>pop</td>\n",
       "      <td>Go Cat Burns shes all i wanna be Tate McRae We...</td>\n",
       "    </tr>\n",
       "    <tr>\n",
       "      <th>4</th>\n",
       "      <td>37i9dQZF1DX5Vy6DFOcx00</td>\n",
       "      <td>['Mount Everest Labrinth', 'MIDDLE OF THE NIGH...</td>\n",
       "      <td>pop</td>\n",
       "      <td>Mount Everest Labrinth MIDDLE OF THE NIGHT Ell...</td>\n",
       "    </tr>\n",
       "    <tr>\n",
       "      <th>...</th>\n",
       "      <td>...</td>\n",
       "      <td>...</td>\n",
       "      <td>...</td>\n",
       "      <td>...</td>\n",
       "    </tr>\n",
       "    <tr>\n",
       "      <th>195</th>\n",
       "      <td>37i9dQZF1DX6RbMTl2YnQ8</td>\n",
       "      <td>['Vía Láctea Zoé', 'Irresponsables Babasónicos...</td>\n",
       "      <td>rock</td>\n",
       "      <td>Va Lctea Zo Irresponsables Babasnicos Tornasol...</td>\n",
       "    </tr>\n",
       "    <tr>\n",
       "      <th>196</th>\n",
       "      <td>37i9dQZF1DXbFRZSqP41al</td>\n",
       "      <td>['Hash Pipe Weezer', 'Celebrity Skin Hole', 'A...</td>\n",
       "      <td>rock</td>\n",
       "      <td>Hash Pipe Weezer Celebrity Skin Hole Are You G...</td>\n",
       "    </tr>\n",
       "    <tr>\n",
       "      <th>197</th>\n",
       "      <td>37i9dQZF1DX9E1mLvTvD1f</td>\n",
       "      <td>['Bullet With Butterfly Wings - Remastered 201...</td>\n",
       "      <td>rock</td>\n",
       "      <td>Bullet With Butterfly Wings  Remastered 2012 T...</td>\n",
       "    </tr>\n",
       "    <tr>\n",
       "      <th>198</th>\n",
       "      <td>37i9dQZF1DX8V6C5Nr1MvC</td>\n",
       "      <td>['Good Riddance (Time of Your Life) Green Day'...</td>\n",
       "      <td>rock</td>\n",
       "      <td>Good Riddance Time of Your Life Green Day Nuts...</td>\n",
       "    </tr>\n",
       "    <tr>\n",
       "      <th>199</th>\n",
       "      <td>37i9dQZF1DX2sUQwD7tbmL</td>\n",
       "      <td>['Smile Wolf Alice', 'its alright :) Kevin Wal...</td>\n",
       "      <td>rock</td>\n",
       "      <td>Smile Wolf Alice its alright  Kevin Walkman Ho...</td>\n",
       "    </tr>\n",
       "  </tbody>\n",
       "</table>\n",
       "<p>200 rows × 4 columns</p>\n",
       "</div>"
      ],
      "text/plain": [
       "                playlist_id  \\\n",
       "0    37i9dQZF1DXcBWIGoYBM5M   \n",
       "1    37i9dQZF1DX0kbJZpiYdZl   \n",
       "2    37i9dQZF1DX4JAvHpjipBk   \n",
       "3    37i9dQZF1DWUa8ZRTfalHk   \n",
       "4    37i9dQZF1DX5Vy6DFOcx00   \n",
       "..                      ...   \n",
       "195  37i9dQZF1DX6RbMTl2YnQ8   \n",
       "196  37i9dQZF1DXbFRZSqP41al   \n",
       "197  37i9dQZF1DX9E1mLvTvD1f   \n",
       "198  37i9dQZF1DX8V6C5Nr1MvC   \n",
       "199  37i9dQZF1DX2sUQwD7tbmL   \n",
       "\n",
       "                                              playlist genre  \\\n",
       "0    ['Heat Waves Glass Animals', 'Ghost Justin Bie...   pop   \n",
       "1    ['Big Energy Latto', 'Ghost Justin Bieber', 'H...   pop   \n",
       "2    ['CHICKEN TERIYAKI ROSALÍA', 'Usain Boo Kodak ...   pop   \n",
       "3    ['Go Cat Burns', \"she's all i wanna be Tate Mc...   pop   \n",
       "4    ['Mount Everest Labrinth', 'MIDDLE OF THE NIGH...   pop   \n",
       "..                                                 ...   ...   \n",
       "195  ['Vía Láctea Zoé', 'Irresponsables Babasónicos...  rock   \n",
       "196  ['Hash Pipe Weezer', 'Celebrity Skin Hole', 'A...  rock   \n",
       "197  ['Bullet With Butterfly Wings - Remastered 201...  rock   \n",
       "198  ['Good Riddance (Time of Your Life) Green Day'...  rock   \n",
       "199  ['Smile Wolf Alice', 'its alright :) Kevin Wal...  rock   \n",
       "\n",
       "                                                 clean  \n",
       "0    Heat Waves Glass Animals Ghost Justin Bieber M...  \n",
       "1    Big Energy Latto Ghost Justin Bieber Heat Wave...  \n",
       "2    CHICKEN TERIYAKI ROSALA Usain Boo Kodak Black ...  \n",
       "3    Go Cat Burns shes all i wanna be Tate McRae We...  \n",
       "4    Mount Everest Labrinth MIDDLE OF THE NIGHT Ell...  \n",
       "..                                                 ...  \n",
       "195  Va Lctea Zo Irresponsables Babasnicos Tornasol...  \n",
       "196  Hash Pipe Weezer Celebrity Skin Hole Are You G...  \n",
       "197  Bullet With Butterfly Wings  Remastered 2012 T...  \n",
       "198  Good Riddance Time of Your Life Green Day Nuts...  \n",
       "199  Smile Wolf Alice its alright  Kevin Walkman Ho...  \n",
       "\n",
       "[200 rows x 4 columns]"
      ]
     },
     "execution_count": 14,
     "metadata": {},
     "output_type": "execute_result"
    }
   ],
   "source": [
    "df"
   ]
  },
  {
   "cell_type": "code",
   "execution_count": 16,
   "id": "f8d4377c-d275-4ae6-bc10-76cc85f636ae",
   "metadata": {},
   "outputs": [
    {
     "data": {
      "application/vnd.jupyter.widget-view+json": {
       "model_id": "3e37284cf691421f9c0047ffd067a85c",
       "version_major": 2,
       "version_minor": 0
      },
      "text/plain": [
       "Downloading:   0%|          | 0.00/455k [00:00<?, ?B/s]"
      ]
     },
     "metadata": {},
     "output_type": "display_data"
    }
   ],
   "source": [
    "tokenizer = BertTokenizer.from_pretrained('bert-base-uncased')"
   ]
  },
  {
   "cell_type": "code",
   "execution_count": 17,
   "id": "bfd19d42-4b17-45ae-9876-9141ca1ea52f",
   "metadata": {},
   "outputs": [
    {
     "name": "stderr",
     "output_type": "stream",
     "text": [
      "Some weights of the model checkpoint at bert-base-uncased were not used when initializing BertModel: ['cls.predictions.decoder.weight', 'cls.predictions.transform.dense.weight', 'cls.seq_relationship.weight', 'cls.predictions.bias', 'cls.predictions.transform.dense.bias', 'cls.seq_relationship.bias', 'cls.predictions.transform.LayerNorm.weight', 'cls.predictions.transform.LayerNorm.bias']\n",
      "- This IS expected if you are initializing BertModel from the checkpoint of a model trained on another task or with another architecture (e.g. initializing a BertForSequenceClassification model from a BertForPreTraining model).\n",
      "- This IS NOT expected if you are initializing BertModel from the checkpoint of a model that you expect to be exactly identical (initializing a BertForSequenceClassification model from a BertForSequenceClassification model).\n"
     ]
    }
   ],
   "source": [
    "model = BertModel.from_pretrained(\"bert-base-uncased\")"
   ]
  },
  {
   "cell_type": "code",
   "execution_count": 46,
   "id": "d46aeae3-c83c-44ec-9b0c-63143396e7f1",
   "metadata": {},
   "outputs": [],
   "source": [
    "encoded_input_pop = tokenizer(df.clean[0], return_tensors='pt')"
   ]
  },
  {
   "cell_type": "code",
   "execution_count": 20,
   "id": "20810ca5-0d37-4c62-8707-10656b4d0a8f",
   "metadata": {},
   "outputs": [],
   "source": [
    "output_pop = model(**encoded_input_pop)"
   ]
  },
  {
   "cell_type": "code",
   "execution_count": 37,
   "id": "0fbaece3-b059-492b-8912-7aac20e3afd1",
   "metadata": {},
   "outputs": [
    {
     "data": {
      "text/plain": [
       "tensor([[-0.5438, -0.4138,  0.3156,  ..., -0.1353, -0.0162, -0.0314],\n",
       "        [ 0.3200, -0.1504,  0.9230,  ..., -0.2143,  0.2521, -0.1553],\n",
       "        [ 0.8855,  0.3419,  0.3564,  ..., -0.0205, -0.3665,  0.1655],\n",
       "        ...,\n",
       "        [-0.4896, -0.1427,  0.8944,  ...,  0.1764,  0.2645, -0.7269],\n",
       "        [-0.4164, -0.3330,  0.4605,  ..., -0.0401, -0.5874, -1.1509],\n",
       "        [ 0.4611,  0.0940, -0.0270,  ...,  0.0462, -0.4190, -0.1923]],\n",
       "       grad_fn=<SelectBackward0>)"
      ]
     },
     "execution_count": 37,
     "metadata": {},
     "output_type": "execute_result"
    }
   ],
   "source": [
    "output_pop.last_hidden_state[0]"
   ]
  },
  {
   "cell_type": "code",
   "execution_count": 23,
   "id": "b4c620fe-3e1d-4ea4-b32e-c9f19c5f505c",
   "metadata": {},
   "outputs": [],
   "source": [
    "encoded_input_rock = tokenizer(df.clean[196], return_tensors='pt')"
   ]
  },
  {
   "cell_type": "code",
   "execution_count": 24,
   "id": "e1b5f646-71da-4d60-8611-f68cef84ac36",
   "metadata": {},
   "outputs": [],
   "source": [
    "output_rock = model(**encoded_input_rock)"
   ]
  },
  {
   "cell_type": "code",
   "execution_count": 38,
   "id": "fdd3d1c9-55d2-4f0a-86bc-fee5a91dcd11",
   "metadata": {},
   "outputs": [
    {
     "data": {
      "text/plain": [
       "tensor([[-0.3359,  0.0838,  0.0361,  ..., -0.2519, -0.1168,  0.0579],\n",
       "        [ 1.1298,  0.0732,  1.2148,  ...,  0.4544,  0.2317,  0.1134],\n",
       "        [ 1.2555,  0.6489,  0.1931,  ...,  0.5193,  0.0042,  0.1893],\n",
       "        ...,\n",
       "        [-0.1697, -0.2646,  0.3771,  ...,  0.2946,  0.5077, -0.6802],\n",
       "        [ 0.0254, -0.5127, -0.2497,  ..., -0.0356, -0.2451, -0.6891],\n",
       "        [ 0.3044,  0.3101,  0.2565,  ..., -0.0029, -0.1546, -0.2339]],\n",
       "       grad_fn=<SelectBackward0>)"
      ]
     },
     "execution_count": 38,
     "metadata": {},
     "output_type": "execute_result"
    }
   ],
   "source": [
    "output_rock.last_hidden_state[0]"
   ]
  },
  {
   "cell_type": "code",
   "execution_count": 43,
   "id": "72a0dbbc-bef4-4e13-884b-522a59145a66",
   "metadata": {},
   "outputs": [
    {
     "data": {
      "text/plain": [
       "array([[ 0.867285  ,  0.18579535,  0.17692077, ...,  0.09168494,\n",
       "         0.10935813, -0.00762907],\n",
       "       [ 0.08839131,  0.43492937,  0.24064448, ...,  0.19312033,\n",
       "         0.13455278, -0.00212963],\n",
       "       [ 0.11667665,  0.38078865,  0.45317   , ...,  0.12046961,\n",
       "         0.19445944,  0.01103076],\n",
       "       ...,\n",
       "       [ 0.07175101,  0.32243925,  0.17598103, ...,  0.1531674 ,\n",
       "         0.13981408,  0.03072366],\n",
       "       [ 0.10651955,  0.30066708,  0.2728317 , ...,  0.18985656,\n",
       "         0.29397225,  0.03085668],\n",
       "       [ 0.04705387,  0.03022932,  0.14808308, ...,  0.01453922,\n",
       "         0.06329374,  0.89476836]], dtype=float32)"
      ]
     },
     "execution_count": 43,
     "metadata": {},
     "output_type": "execute_result"
    }
   ],
   "source": [
    "cosine_similarity(output_rock.last_hidden_state[0].detach().numpy(), output_pop.last_hidden_state[0].detach().numpy())"
   ]
  },
  {
   "cell_type": "code",
   "execution_count": 52,
   "id": "7f48b015-9aeb-4ac2-844a-32aa11b508c4",
   "metadata": {},
   "outputs": [],
   "source": []
  },
  {
   "cell_type": "code",
   "execution_count": 54,
   "id": "66adccd7-64b0-488c-ab37-9ac87dfcfa26",
   "metadata": {},
   "outputs": [],
   "source": [
    "encoded_playlists = [tokenizer(i, return_tensors='pt') for i in df.clean]"
   ]
  },
  {
   "cell_type": "code",
   "execution_count": 55,
   "id": "41991a6d-43da-4260-996f-cf0f6f3d30db",
   "metadata": {},
   "outputs": [
    {
     "ename": "RuntimeError",
     "evalue": "The size of tensor a (651) must match the size of tensor b (512) at non-singleton dimension 1",
     "output_type": "error",
     "traceback": [
      "\u001b[0;31m---------------------------------------------------------------------------\u001b[0m",
      "\u001b[0;31mRuntimeError\u001b[0m                              Traceback (most recent call last)",
      "Input \u001b[0;32mIn [55]\u001b[0m, in \u001b[0;36m<module>\u001b[0;34m\u001b[0m\n\u001b[0;32m----> 1\u001b[0m outputs \u001b[38;5;241m=\u001b[39m [model(\u001b[38;5;241m*\u001b[39m\u001b[38;5;241m*\u001b[39mi) \u001b[38;5;28;01mfor\u001b[39;00m i \u001b[38;5;129;01min\u001b[39;00m encoded_playlists]\n",
      "Input \u001b[0;32mIn [55]\u001b[0m, in \u001b[0;36m<listcomp>\u001b[0;34m(.0)\u001b[0m\n\u001b[0;32m----> 1\u001b[0m outputs \u001b[38;5;241m=\u001b[39m [\u001b[43mmodel\u001b[49m\u001b[43m(\u001b[49m\u001b[38;5;241;43m*\u001b[39;49m\u001b[38;5;241;43m*\u001b[39;49m\u001b[43mi\u001b[49m\u001b[43m)\u001b[49m \u001b[38;5;28;01mfor\u001b[39;00m i \u001b[38;5;129;01min\u001b[39;00m encoded_playlists]\n",
      "File \u001b[0;32m~/git-repos/spotify_playlist_comparison/env/lib/python3.8/site-packages/torch/nn/modules/module.py:1102\u001b[0m, in \u001b[0;36mModule._call_impl\u001b[0;34m(self, *input, **kwargs)\u001b[0m\n\u001b[1;32m   1098\u001b[0m \u001b[38;5;66;03m# If we don't have any hooks, we want to skip the rest of the logic in\u001b[39;00m\n\u001b[1;32m   1099\u001b[0m \u001b[38;5;66;03m# this function, and just call forward.\u001b[39;00m\n\u001b[1;32m   1100\u001b[0m \u001b[38;5;28;01mif\u001b[39;00m \u001b[38;5;129;01mnot\u001b[39;00m (\u001b[38;5;28mself\u001b[39m\u001b[38;5;241m.\u001b[39m_backward_hooks \u001b[38;5;129;01mor\u001b[39;00m \u001b[38;5;28mself\u001b[39m\u001b[38;5;241m.\u001b[39m_forward_hooks \u001b[38;5;129;01mor\u001b[39;00m \u001b[38;5;28mself\u001b[39m\u001b[38;5;241m.\u001b[39m_forward_pre_hooks \u001b[38;5;129;01mor\u001b[39;00m _global_backward_hooks\n\u001b[1;32m   1101\u001b[0m         \u001b[38;5;129;01mor\u001b[39;00m _global_forward_hooks \u001b[38;5;129;01mor\u001b[39;00m _global_forward_pre_hooks):\n\u001b[0;32m-> 1102\u001b[0m     \u001b[38;5;28;01mreturn\u001b[39;00m \u001b[43mforward_call\u001b[49m\u001b[43m(\u001b[49m\u001b[38;5;241;43m*\u001b[39;49m\u001b[38;5;28;43minput\u001b[39;49m\u001b[43m,\u001b[49m\u001b[43m \u001b[49m\u001b[38;5;241;43m*\u001b[39;49m\u001b[38;5;241;43m*\u001b[39;49m\u001b[43mkwargs\u001b[49m\u001b[43m)\u001b[49m\n\u001b[1;32m   1103\u001b[0m \u001b[38;5;66;03m# Do not call functions when jit is used\u001b[39;00m\n\u001b[1;32m   1104\u001b[0m full_backward_hooks, non_full_backward_hooks \u001b[38;5;241m=\u001b[39m [], []\n",
      "File \u001b[0;32m~/git-repos/spotify_playlist_comparison/env/lib/python3.8/site-packages/transformers/models/bert/modeling_bert.py:989\u001b[0m, in \u001b[0;36mBertModel.forward\u001b[0;34m(self, input_ids, attention_mask, token_type_ids, position_ids, head_mask, inputs_embeds, encoder_hidden_states, encoder_attention_mask, past_key_values, use_cache, output_attentions, output_hidden_states, return_dict)\u001b[0m\n\u001b[1;32m    982\u001b[0m \u001b[38;5;66;03m# Prepare head mask if needed\u001b[39;00m\n\u001b[1;32m    983\u001b[0m \u001b[38;5;66;03m# 1.0 in head_mask indicate we keep the head\u001b[39;00m\n\u001b[1;32m    984\u001b[0m \u001b[38;5;66;03m# attention_probs has shape bsz x n_heads x N x N\u001b[39;00m\n\u001b[1;32m    985\u001b[0m \u001b[38;5;66;03m# input head_mask has shape [num_heads] or [num_hidden_layers x num_heads]\u001b[39;00m\n\u001b[1;32m    986\u001b[0m \u001b[38;5;66;03m# and head_mask is converted to shape [num_hidden_layers x batch x num_heads x seq_length x seq_length]\u001b[39;00m\n\u001b[1;32m    987\u001b[0m head_mask \u001b[38;5;241m=\u001b[39m \u001b[38;5;28mself\u001b[39m\u001b[38;5;241m.\u001b[39mget_head_mask(head_mask, \u001b[38;5;28mself\u001b[39m\u001b[38;5;241m.\u001b[39mconfig\u001b[38;5;241m.\u001b[39mnum_hidden_layers)\n\u001b[0;32m--> 989\u001b[0m embedding_output \u001b[38;5;241m=\u001b[39m \u001b[38;5;28;43mself\u001b[39;49m\u001b[38;5;241;43m.\u001b[39;49m\u001b[43membeddings\u001b[49m\u001b[43m(\u001b[49m\n\u001b[1;32m    990\u001b[0m \u001b[43m    \u001b[49m\u001b[43minput_ids\u001b[49m\u001b[38;5;241;43m=\u001b[39;49m\u001b[43minput_ids\u001b[49m\u001b[43m,\u001b[49m\n\u001b[1;32m    991\u001b[0m \u001b[43m    \u001b[49m\u001b[43mposition_ids\u001b[49m\u001b[38;5;241;43m=\u001b[39;49m\u001b[43mposition_ids\u001b[49m\u001b[43m,\u001b[49m\n\u001b[1;32m    992\u001b[0m \u001b[43m    \u001b[49m\u001b[43mtoken_type_ids\u001b[49m\u001b[38;5;241;43m=\u001b[39;49m\u001b[43mtoken_type_ids\u001b[49m\u001b[43m,\u001b[49m\n\u001b[1;32m    993\u001b[0m \u001b[43m    \u001b[49m\u001b[43minputs_embeds\u001b[49m\u001b[38;5;241;43m=\u001b[39;49m\u001b[43minputs_embeds\u001b[49m\u001b[43m,\u001b[49m\n\u001b[1;32m    994\u001b[0m \u001b[43m    \u001b[49m\u001b[43mpast_key_values_length\u001b[49m\u001b[38;5;241;43m=\u001b[39;49m\u001b[43mpast_key_values_length\u001b[49m\u001b[43m,\u001b[49m\n\u001b[1;32m    995\u001b[0m \u001b[43m\u001b[49m\u001b[43m)\u001b[49m\n\u001b[1;32m    996\u001b[0m encoder_outputs \u001b[38;5;241m=\u001b[39m \u001b[38;5;28mself\u001b[39m\u001b[38;5;241m.\u001b[39mencoder(\n\u001b[1;32m    997\u001b[0m     embedding_output,\n\u001b[1;32m    998\u001b[0m     attention_mask\u001b[38;5;241m=\u001b[39mextended_attention_mask,\n\u001b[0;32m   (...)\u001b[0m\n\u001b[1;32m   1006\u001b[0m     return_dict\u001b[38;5;241m=\u001b[39mreturn_dict,\n\u001b[1;32m   1007\u001b[0m )\n\u001b[1;32m   1008\u001b[0m sequence_output \u001b[38;5;241m=\u001b[39m encoder_outputs[\u001b[38;5;241m0\u001b[39m]\n",
      "File \u001b[0;32m~/git-repos/spotify_playlist_comparison/env/lib/python3.8/site-packages/torch/nn/modules/module.py:1102\u001b[0m, in \u001b[0;36mModule._call_impl\u001b[0;34m(self, *input, **kwargs)\u001b[0m\n\u001b[1;32m   1098\u001b[0m \u001b[38;5;66;03m# If we don't have any hooks, we want to skip the rest of the logic in\u001b[39;00m\n\u001b[1;32m   1099\u001b[0m \u001b[38;5;66;03m# this function, and just call forward.\u001b[39;00m\n\u001b[1;32m   1100\u001b[0m \u001b[38;5;28;01mif\u001b[39;00m \u001b[38;5;129;01mnot\u001b[39;00m (\u001b[38;5;28mself\u001b[39m\u001b[38;5;241m.\u001b[39m_backward_hooks \u001b[38;5;129;01mor\u001b[39;00m \u001b[38;5;28mself\u001b[39m\u001b[38;5;241m.\u001b[39m_forward_hooks \u001b[38;5;129;01mor\u001b[39;00m \u001b[38;5;28mself\u001b[39m\u001b[38;5;241m.\u001b[39m_forward_pre_hooks \u001b[38;5;129;01mor\u001b[39;00m _global_backward_hooks\n\u001b[1;32m   1101\u001b[0m         \u001b[38;5;129;01mor\u001b[39;00m _global_forward_hooks \u001b[38;5;129;01mor\u001b[39;00m _global_forward_pre_hooks):\n\u001b[0;32m-> 1102\u001b[0m     \u001b[38;5;28;01mreturn\u001b[39;00m \u001b[43mforward_call\u001b[49m\u001b[43m(\u001b[49m\u001b[38;5;241;43m*\u001b[39;49m\u001b[38;5;28;43minput\u001b[39;49m\u001b[43m,\u001b[49m\u001b[43m \u001b[49m\u001b[38;5;241;43m*\u001b[39;49m\u001b[38;5;241;43m*\u001b[39;49m\u001b[43mkwargs\u001b[49m\u001b[43m)\u001b[49m\n\u001b[1;32m   1103\u001b[0m \u001b[38;5;66;03m# Do not call functions when jit is used\u001b[39;00m\n\u001b[1;32m   1104\u001b[0m full_backward_hooks, non_full_backward_hooks \u001b[38;5;241m=\u001b[39m [], []\n",
      "File \u001b[0;32m~/git-repos/spotify_playlist_comparison/env/lib/python3.8/site-packages/transformers/models/bert/modeling_bert.py:220\u001b[0m, in \u001b[0;36mBertEmbeddings.forward\u001b[0;34m(self, input_ids, token_type_ids, position_ids, inputs_embeds, past_key_values_length)\u001b[0m\n\u001b[1;32m    218\u001b[0m \u001b[38;5;28;01mif\u001b[39;00m \u001b[38;5;28mself\u001b[39m\u001b[38;5;241m.\u001b[39mposition_embedding_type \u001b[38;5;241m==\u001b[39m \u001b[38;5;124m\"\u001b[39m\u001b[38;5;124mabsolute\u001b[39m\u001b[38;5;124m\"\u001b[39m:\n\u001b[1;32m    219\u001b[0m     position_embeddings \u001b[38;5;241m=\u001b[39m \u001b[38;5;28mself\u001b[39m\u001b[38;5;241m.\u001b[39mposition_embeddings(position_ids)\n\u001b[0;32m--> 220\u001b[0m     embeddings \u001b[38;5;241m+\u001b[39m\u001b[38;5;241m=\u001b[39m position_embeddings\n\u001b[1;32m    221\u001b[0m embeddings \u001b[38;5;241m=\u001b[39m \u001b[38;5;28mself\u001b[39m\u001b[38;5;241m.\u001b[39mLayerNorm(embeddings)\n\u001b[1;32m    222\u001b[0m embeddings \u001b[38;5;241m=\u001b[39m \u001b[38;5;28mself\u001b[39m\u001b[38;5;241m.\u001b[39mdropout(embeddings)\n",
      "\u001b[0;31mRuntimeError\u001b[0m: The size of tensor a (651) must match the size of tensor b (512) at non-singleton dimension 1"
     ]
    }
   ],
   "source": [
    "outputs = [model(**i) for i in encoded_playlists]"
   ]
  },
  {
   "cell_type": "code",
   "execution_count": null,
   "id": "a2c5faf8-74b1-401c-9d0b-fd2ae7c3d13f",
   "metadata": {},
   "outputs": [],
   "source": []
  },
  {
   "cell_type": "code",
   "execution_count": null,
   "id": "38a6e7f9-42ba-450c-b03a-b392e7f662fe",
   "metadata": {},
   "outputs": [],
   "source": []
  }
 ],
 "metadata": {
  "kernelspec": {
   "display_name": "Python 3 (ipykernel)",
   "language": "python",
   "name": "python3"
  },
  "language_info": {
   "codemirror_mode": {
    "name": "ipython",
    "version": 3
   },
   "file_extension": ".py",
   "mimetype": "text/x-python",
   "name": "python",
   "nbconvert_exporter": "python",
   "pygments_lexer": "ipython3",
   "version": "3.8.9"
  }
 },
 "nbformat": 4,
 "nbformat_minor": 5
}
