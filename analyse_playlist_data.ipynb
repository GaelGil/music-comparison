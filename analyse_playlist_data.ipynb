{
 "cells": [
  {
   "cell_type": "code",
   "execution_count": 1,
   "id": "d522f205-db0a-462d-8559-c6c0dd7b44ab",
   "metadata": {},
   "outputs": [],
   "source": [
    "import string\n",
    "import matplotlib.pyplot as plt\n",
    "import numpy as np\n",
    "import pandas as pd\n",
    "from sklearn.metrics.pairwise import cosine_similarity\n",
    "from sklearn.feature_extraction.text import CountVectorizer\n",
    "import re\n",
    "from nltk.corpus import stopwords\n",
    "stopwords = stopwords.words('english')"
   ]
  },
  {
   "cell_type": "code",
   "execution_count": 2,
   "id": "37040fff-fa8f-44b7-b11c-0347d54d15ef",
   "metadata": {},
   "outputs": [],
   "source": [
    "df = pd.read_csv('./playlist_data.csv')"
   ]
  },
  {
   "cell_type": "code",
   "execution_count": 3,
   "id": "6f52f500-101e-451a-9c09-86ba3f3cfad4",
   "metadata": {},
   "outputs": [
    {
     "data": {
      "text/html": [
       "<div>\n",
       "<style scoped>\n",
       "    .dataframe tbody tr th:only-of-type {\n",
       "        vertical-align: middle;\n",
       "    }\n",
       "\n",
       "    .dataframe tbody tr th {\n",
       "        vertical-align: top;\n",
       "    }\n",
       "\n",
       "    .dataframe thead th {\n",
       "        text-align: right;\n",
       "    }\n",
       "</style>\n",
       "<table border=\"1\" class=\"dataframe\">\n",
       "  <thead>\n",
       "    <tr style=\"text-align: right;\">\n",
       "      <th></th>\n",
       "      <th>playlist_id</th>\n",
       "      <th>playlist</th>\n",
       "      <th>genre</th>\n",
       "    </tr>\n",
       "  </thead>\n",
       "  <tbody>\n",
       "    <tr>\n",
       "      <th>0</th>\n",
       "      <td>37i9dQZF1DXcBWIGoYBM5M</td>\n",
       "      <td>['Heat Waves Glass Animals', 'Ghost Justin Bie...</td>\n",
       "      <td>pop</td>\n",
       "    </tr>\n",
       "    <tr>\n",
       "      <th>1</th>\n",
       "      <td>37i9dQZF1DX0kbJZpiYdZl</td>\n",
       "      <td>['Big Energy Latto', 'Ghost Justin Bieber', 'H...</td>\n",
       "      <td>pop</td>\n",
       "    </tr>\n",
       "    <tr>\n",
       "      <th>2</th>\n",
       "      <td>37i9dQZF1DX4JAvHpjipBk</td>\n",
       "      <td>['CHICKEN TERIYAKI ROSALÍA', 'Usain Boo Kodak ...</td>\n",
       "      <td>pop</td>\n",
       "    </tr>\n",
       "    <tr>\n",
       "      <th>3</th>\n",
       "      <td>37i9dQZF1DWUa8ZRTfalHk</td>\n",
       "      <td>['Go Cat Burns', \"she's all i wanna be Tate Mc...</td>\n",
       "      <td>pop</td>\n",
       "    </tr>\n",
       "    <tr>\n",
       "      <th>4</th>\n",
       "      <td>37i9dQZF1DX5Vy6DFOcx00</td>\n",
       "      <td>['Mount Everest Labrinth', 'MIDDLE OF THE NIGH...</td>\n",
       "      <td>pop</td>\n",
       "    </tr>\n",
       "    <tr>\n",
       "      <th>...</th>\n",
       "      <td>...</td>\n",
       "      <td>...</td>\n",
       "      <td>...</td>\n",
       "    </tr>\n",
       "    <tr>\n",
       "      <th>195</th>\n",
       "      <td>37i9dQZF1DX6RbMTl2YnQ8</td>\n",
       "      <td>['Vía Láctea Zoé', 'Irresponsables Babasónicos...</td>\n",
       "      <td>rock</td>\n",
       "    </tr>\n",
       "    <tr>\n",
       "      <th>196</th>\n",
       "      <td>37i9dQZF1DXbFRZSqP41al</td>\n",
       "      <td>['Hash Pipe Weezer', 'Celebrity Skin Hole', 'A...</td>\n",
       "      <td>rock</td>\n",
       "    </tr>\n",
       "    <tr>\n",
       "      <th>197</th>\n",
       "      <td>37i9dQZF1DX9E1mLvTvD1f</td>\n",
       "      <td>['Bullet With Butterfly Wings - Remastered 201...</td>\n",
       "      <td>rock</td>\n",
       "    </tr>\n",
       "    <tr>\n",
       "      <th>198</th>\n",
       "      <td>37i9dQZF1DX8V6C5Nr1MvC</td>\n",
       "      <td>['Good Riddance (Time of Your Life) Green Day'...</td>\n",
       "      <td>rock</td>\n",
       "    </tr>\n",
       "    <tr>\n",
       "      <th>199</th>\n",
       "      <td>37i9dQZF1DX2sUQwD7tbmL</td>\n",
       "      <td>['Smile Wolf Alice', 'its alright :) Kevin Wal...</td>\n",
       "      <td>rock</td>\n",
       "    </tr>\n",
       "  </tbody>\n",
       "</table>\n",
       "<p>200 rows × 3 columns</p>\n",
       "</div>"
      ],
      "text/plain": [
       "                playlist_id  \\\n",
       "0    37i9dQZF1DXcBWIGoYBM5M   \n",
       "1    37i9dQZF1DX0kbJZpiYdZl   \n",
       "2    37i9dQZF1DX4JAvHpjipBk   \n",
       "3    37i9dQZF1DWUa8ZRTfalHk   \n",
       "4    37i9dQZF1DX5Vy6DFOcx00   \n",
       "..                      ...   \n",
       "195  37i9dQZF1DX6RbMTl2YnQ8   \n",
       "196  37i9dQZF1DXbFRZSqP41al   \n",
       "197  37i9dQZF1DX9E1mLvTvD1f   \n",
       "198  37i9dQZF1DX8V6C5Nr1MvC   \n",
       "199  37i9dQZF1DX2sUQwD7tbmL   \n",
       "\n",
       "                                              playlist genre  \n",
       "0    ['Heat Waves Glass Animals', 'Ghost Justin Bie...   pop  \n",
       "1    ['Big Energy Latto', 'Ghost Justin Bieber', 'H...   pop  \n",
       "2    ['CHICKEN TERIYAKI ROSALÍA', 'Usain Boo Kodak ...   pop  \n",
       "3    ['Go Cat Burns', \"she's all i wanna be Tate Mc...   pop  \n",
       "4    ['Mount Everest Labrinth', 'MIDDLE OF THE NIGH...   pop  \n",
       "..                                                 ...   ...  \n",
       "195  ['Vía Láctea Zoé', 'Irresponsables Babasónicos...  rock  \n",
       "196  ['Hash Pipe Weezer', 'Celebrity Skin Hole', 'A...  rock  \n",
       "197  ['Bullet With Butterfly Wings - Remastered 201...  rock  \n",
       "198  ['Good Riddance (Time of Your Life) Green Day'...  rock  \n",
       "199  ['Smile Wolf Alice', 'its alright :) Kevin Wal...  rock  \n",
       "\n",
       "[200 rows x 3 columns]"
      ]
     },
     "execution_count": 3,
     "metadata": {},
     "output_type": "execute_result"
    }
   ],
   "source": [
    "df"
   ]
  },
  {
   "cell_type": "code",
   "execution_count": 4,
   "id": "96ccc239-c36c-4a69-87c1-752737495a12",
   "metadata": {},
   "outputs": [],
   "source": [
    "playlists = [re.sub('[^a-zA-Z0-9 \\n\\.]', '', i) for i in df.playlist]"
   ]
  },
  {
   "cell_type": "code",
   "execution_count": 5,
   "id": "01ac97e0-828c-4b9f-816e-4ca85f2bc66f",
   "metadata": {},
   "outputs": [
    {
     "data": {
      "text/plain": [
       "'Heat Waves Glass Animals Ghost Justin Bieber MAMIII Becky G Shivers Ed Sheeran Enemy with JID  from the series Arcane League of Legends Imagine Dragons THATS WHAT I WANT Lil Nas X Infinity Jaymes Young STAY with Justin Bieber The Kid LAROI abcdefu GAYLE Cold Heart  PNAU Remix Elton John Woman Doja Cat INDUSTRY BABY feat. Jack Harlow Lil Nas X Light Switch Charlie Puth Boyfriend Dove Cameron Easy On Me Adele Where Are You Now Lost Frequencies love nwantiti ah ah ah CKay shes all i wanna be Tate McRae Bad Habits Ed Sheeran My Universe Coldplay Oh My God Adele TO THE MOON Jnr Choi Desesperados Rauw Alejandro Need to Know Doja Cat One Right Now with The Weeknd Post Malone Nail Tech Jack Harlow pushin P feat. Young Thug Gunna The Motto Tisto Pepas Farruko MIDDLE OF THE NIGHT Elley Duh I Love You So The Walters Happier Than Ever  Edit Billie Eilish CHICKEN TERIYAKI ROSALA Super Gremlin Kodak Black Sacrifice The Weeknd Fingers Crossed Lauren SpencerSmith The Joker And The Queen feat. Taylor Swift Ed Sheeran Do It To It ACRAZE Better Days NEIKED x Mae Muller x Polo G NEIKED Numb Little Bug Em Beihold Go Cat Burns High The Chainsmokers Down Under feat. Colin Hay Luude MONEY LISA good 4 u Olivia Rodrigo Hrs and Hrs Muni Long Toxic BoyWithUke Mon Amour  Remix zzoilo I Hate U SZA Cigarettes Juice WRLD'"
      ]
     },
     "execution_count": 5,
     "metadata": {},
     "output_type": "execute_result"
    }
   ],
   "source": [
    "playlists[0]"
   ]
  },
  {
   "cell_type": "code",
   "execution_count": 6,
   "id": "5aba8507-1380-4f87-b69d-900818ce5d5b",
   "metadata": {},
   "outputs": [],
   "source": [
    "def clean_string(playlist):\n",
    "    playlist = ''.join([word for word in playlist if word not in string.punctuation])\n",
    "    playlist = playlist.lower()\n",
    "    playlist = ' '.join([word for word in playlist.split() if word not in stopwords])\n",
    "    return playlists"
   ]
  },
  {
   "cell_type": "code",
   "execution_count": 15,
   "id": "88ffff70-705a-45d2-9ccd-ad00d2c67f85",
   "metadata": {},
   "outputs": [],
   "source": [
    "cleaned = list(map(clean_string, playlists))"
   ]
  },
  {
   "cell_type": "code",
   "execution_count": 16,
   "id": "f8d4377c-d275-4ae6-bc10-76cc85f636ae",
   "metadata": {},
   "outputs": [
    {
     "data": {
      "text/plain": [
       "array([[0, 0, 0, ..., 0, 0, 1],\n",
       "       [0, 0, 0, ..., 0, 0, 0],\n",
       "       [0, 0, 0, ..., 0, 0, 0],\n",
       "       ...,\n",
       "       [0, 0, 0, ..., 0, 0, 0],\n",
       "       [0, 0, 0, ..., 0, 0, 0],\n",
       "       [0, 0, 0, ..., 0, 0, 0]])"
      ]
     },
     "execution_count": 16,
     "metadata": {},
     "output_type": "execute_result"
    }
   ],
   "source": [
    "vectorizer = CountVectorizer().fit_transform(cleaned[0])\n",
    "vectors = vectorizer.toarray()\n",
    "vectors"
   ]
  },
  {
   "cell_type": "code",
   "execution_count": 9,
   "id": "bfd19d42-4b17-45ae-9876-9141ca1ea52f",
   "metadata": {},
   "outputs": [],
   "source": [
    "def cosine_sim_vectors(vec1, vec2):\n",
    "    vec1 = vec1.reshape(1, -1)\n",
    "    vec2 = vec2.reshape(1, -1)\n",
    "    return cosine_similarity(vec1, vec2)[0][0]"
   ]
  },
  {
   "cell_type": "code",
   "execution_count": 21,
   "id": "d46aeae3-c83c-44ec-9b0c-63143396e7f1",
   "metadata": {},
   "outputs": [
    {
     "data": {
      "text/plain": [
       "0.9999999999999999"
      ]
     },
     "execution_count": 21,
     "metadata": {},
     "output_type": "execute_result"
    }
   ],
   "source": [
    "cosine_sim_vectors(vectors[0], vectors[0])"
   ]
  },
  {
   "cell_type": "code",
   "execution_count": 20,
   "id": "20810ca5-0d37-4c62-8707-10656b4d0a8f",
   "metadata": {},
   "outputs": [
    {
     "data": {
      "text/plain": [
       "array([0, 0, 0, ..., 0, 0, 1])"
      ]
     },
     "execution_count": 20,
     "metadata": {},
     "output_type": "execute_result"
    }
   ],
   "source": [
    "vectors[0]"
   ]
  },
  {
   "cell_type": "code",
   "execution_count": null,
   "id": "0fbaece3-b059-492b-8912-7aac20e3afd1",
   "metadata": {},
   "outputs": [],
   "source": []
  },
  {
   "cell_type": "code",
   "execution_count": null,
   "id": "b4c620fe-3e1d-4ea4-b32e-c9f19c5f505c",
   "metadata": {},
   "outputs": [],
   "source": []
  },
  {
   "cell_type": "code",
   "execution_count": null,
   "id": "e1b5f646-71da-4d60-8611-f68cef84ac36",
   "metadata": {},
   "outputs": [],
   "source": []
  },
  {
   "cell_type": "code",
   "execution_count": null,
   "id": "fdd3d1c9-55d2-4f0a-86bc-fee5a91dcd11",
   "metadata": {},
   "outputs": [],
   "source": []
  },
  {
   "cell_type": "code",
   "execution_count": null,
   "id": "72a0dbbc-bef4-4e13-884b-522a59145a66",
   "metadata": {},
   "outputs": [],
   "source": []
  },
  {
   "cell_type": "code",
   "execution_count": null,
   "id": "7f48b015-9aeb-4ac2-844a-32aa11b508c4",
   "metadata": {},
   "outputs": [],
   "source": []
  },
  {
   "cell_type": "code",
   "execution_count": null,
   "id": "66adccd7-64b0-488c-ab37-9ac87dfcfa26",
   "metadata": {},
   "outputs": [],
   "source": []
  },
  {
   "cell_type": "code",
   "execution_count": null,
   "id": "41991a6d-43da-4260-996f-cf0f6f3d30db",
   "metadata": {},
   "outputs": [],
   "source": []
  },
  {
   "cell_type": "code",
   "execution_count": null,
   "id": "a2c5faf8-74b1-401c-9d0b-fd2ae7c3d13f",
   "metadata": {},
   "outputs": [],
   "source": []
  },
  {
   "cell_type": "code",
   "execution_count": null,
   "id": "38a6e7f9-42ba-450c-b03a-b392e7f662fe",
   "metadata": {},
   "outputs": [],
   "source": []
  }
 ],
 "metadata": {
  "kernelspec": {
   "display_name": "Python 3 (ipykernel)",
   "language": "python",
   "name": "python3"
  },
  "language_info": {
   "codemirror_mode": {
    "name": "ipython",
    "version": 3
   },
   "file_extension": ".py",
   "mimetype": "text/x-python",
   "name": "python",
   "nbconvert_exporter": "python",
   "pygments_lexer": "ipython3",
   "version": "3.8.9"
  }
 },
 "nbformat": 4,
 "nbformat_minor": 5
}
