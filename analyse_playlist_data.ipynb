{
 "cells": [
  {
   "cell_type": "code",
   "execution_count": 1,
   "id": "d522f205-db0a-462d-8559-c6c0dd7b44ab",
   "metadata": {},
   "outputs": [],
   "source": [
    "import matplotlib.pyplot as plt\n",
    "import numpy as np\n",
    "import pandas as pd\n",
    "import wave\n",
    "import gensim\n",
    "import soundfile as sf\n",
    "import torch\n",
    "from scipy.io import wavfile\n",
    "from datasets import load_dataset\n",
    "from transformers import Wav2Vec2ForCTC, Wav2Vec2Processor"
   ]
  },
  {
   "cell_type": "code",
   "execution_count": 2,
   "id": "37040fff-fa8f-44b7-b11c-0347d54d15ef",
   "metadata": {},
   "outputs": [],
   "source": [
    "df = pd.read_csv('./playlist_data.csv')"
   ]
  },
  {
   "cell_type": "code",
   "execution_count": 3,
   "id": "6f52f500-101e-451a-9c09-86ba3f3cfad4",
   "metadata": {},
   "outputs": [
    {
     "data": {
      "text/html": [
       "<div>\n",
       "<style scoped>\n",
       "    .dataframe tbody tr th:only-of-type {\n",
       "        vertical-align: middle;\n",
       "    }\n",
       "\n",
       "    .dataframe tbody tr th {\n",
       "        vertical-align: top;\n",
       "    }\n",
       "\n",
       "    .dataframe thead th {\n",
       "        text-align: right;\n",
       "    }\n",
       "</style>\n",
       "<table border=\"1\" class=\"dataframe\">\n",
       "  <thead>\n",
       "    <tr style=\"text-align: right;\">\n",
       "      <th></th>\n",
       "      <th>playlist_id</th>\n",
       "      <th>playlist</th>\n",
       "      <th>genre</th>\n",
       "    </tr>\n",
       "  </thead>\n",
       "  <tbody>\n",
       "    <tr>\n",
       "      <th>0</th>\n",
       "      <td>37i9dQZF1DXcBWIGoYBM5M</td>\n",
       "      <td>['Heat Waves Glass Animals', 'Ghost Justin Bie...</td>\n",
       "      <td>pop</td>\n",
       "    </tr>\n",
       "    <tr>\n",
       "      <th>1</th>\n",
       "      <td>37i9dQZF1DX0kbJZpiYdZl</td>\n",
       "      <td>['Big Energy Latto', 'Ghost Justin Bieber', 'H...</td>\n",
       "      <td>pop</td>\n",
       "    </tr>\n",
       "    <tr>\n",
       "      <th>2</th>\n",
       "      <td>37i9dQZF1DX4JAvHpjipBk</td>\n",
       "      <td>['CHICKEN TERIYAKI ROSALÍA', 'Usain Boo Kodak ...</td>\n",
       "      <td>pop</td>\n",
       "    </tr>\n",
       "    <tr>\n",
       "      <th>3</th>\n",
       "      <td>37i9dQZF1DWUa8ZRTfalHk</td>\n",
       "      <td>['Go Cat Burns', \"she's all i wanna be Tate Mc...</td>\n",
       "      <td>pop</td>\n",
       "    </tr>\n",
       "    <tr>\n",
       "      <th>4</th>\n",
       "      <td>37i9dQZF1DX5Vy6DFOcx00</td>\n",
       "      <td>['Mount Everest Labrinth', 'MIDDLE OF THE NIGH...</td>\n",
       "      <td>pop</td>\n",
       "    </tr>\n",
       "    <tr>\n",
       "      <th>...</th>\n",
       "      <td>...</td>\n",
       "      <td>...</td>\n",
       "      <td>...</td>\n",
       "    </tr>\n",
       "    <tr>\n",
       "      <th>195</th>\n",
       "      <td>37i9dQZF1DX6RbMTl2YnQ8</td>\n",
       "      <td>['Vía Láctea Zoé', 'Irresponsables Babasónicos...</td>\n",
       "      <td>rock</td>\n",
       "    </tr>\n",
       "    <tr>\n",
       "      <th>196</th>\n",
       "      <td>37i9dQZF1DXbFRZSqP41al</td>\n",
       "      <td>['Hash Pipe Weezer', 'Celebrity Skin Hole', 'A...</td>\n",
       "      <td>rock</td>\n",
       "    </tr>\n",
       "    <tr>\n",
       "      <th>197</th>\n",
       "      <td>37i9dQZF1DX9E1mLvTvD1f</td>\n",
       "      <td>['Bullet With Butterfly Wings - Remastered 201...</td>\n",
       "      <td>rock</td>\n",
       "    </tr>\n",
       "    <tr>\n",
       "      <th>198</th>\n",
       "      <td>37i9dQZF1DX8V6C5Nr1MvC</td>\n",
       "      <td>['Good Riddance (Time of Your Life) Green Day'...</td>\n",
       "      <td>rock</td>\n",
       "    </tr>\n",
       "    <tr>\n",
       "      <th>199</th>\n",
       "      <td>37i9dQZF1DX2sUQwD7tbmL</td>\n",
       "      <td>['Smile Wolf Alice', 'its alright :) Kevin Wal...</td>\n",
       "      <td>rock</td>\n",
       "    </tr>\n",
       "  </tbody>\n",
       "</table>\n",
       "<p>200 rows × 3 columns</p>\n",
       "</div>"
      ],
      "text/plain": [
       "                playlist_id  \\\n",
       "0    37i9dQZF1DXcBWIGoYBM5M   \n",
       "1    37i9dQZF1DX0kbJZpiYdZl   \n",
       "2    37i9dQZF1DX4JAvHpjipBk   \n",
       "3    37i9dQZF1DWUa8ZRTfalHk   \n",
       "4    37i9dQZF1DX5Vy6DFOcx00   \n",
       "..                      ...   \n",
       "195  37i9dQZF1DX6RbMTl2YnQ8   \n",
       "196  37i9dQZF1DXbFRZSqP41al   \n",
       "197  37i9dQZF1DX9E1mLvTvD1f   \n",
       "198  37i9dQZF1DX8V6C5Nr1MvC   \n",
       "199  37i9dQZF1DX2sUQwD7tbmL   \n",
       "\n",
       "                                              playlist genre  \n",
       "0    ['Heat Waves Glass Animals', 'Ghost Justin Bie...   pop  \n",
       "1    ['Big Energy Latto', 'Ghost Justin Bieber', 'H...   pop  \n",
       "2    ['CHICKEN TERIYAKI ROSALÍA', 'Usain Boo Kodak ...   pop  \n",
       "3    ['Go Cat Burns', \"she's all i wanna be Tate Mc...   pop  \n",
       "4    ['Mount Everest Labrinth', 'MIDDLE OF THE NIGH...   pop  \n",
       "..                                                 ...   ...  \n",
       "195  ['Vía Láctea Zoé', 'Irresponsables Babasónicos...  rock  \n",
       "196  ['Hash Pipe Weezer', 'Celebrity Skin Hole', 'A...  rock  \n",
       "197  ['Bullet With Butterfly Wings - Remastered 201...  rock  \n",
       "198  ['Good Riddance (Time of Your Life) Green Day'...  rock  \n",
       "199  ['Smile Wolf Alice', 'its alright :) Kevin Wal...  rock  \n",
       "\n",
       "[200 rows x 3 columns]"
      ]
     },
     "execution_count": 3,
     "metadata": {},
     "output_type": "execute_result"
    }
   ],
   "source": [
    "df"
   ]
  },
  {
   "cell_type": "code",
   "execution_count": 18,
   "id": "f2b4d88e-0b9b-435f-934a-06e64c03a614",
   "metadata": {},
   "outputs": [
    {
     "data": {
      "text/plain": [
       "0      [heat, waves, glass, animals, ghost, justin, b...\n",
       "1      [big, energy, latto, ghost, justin, bieber, he...\n",
       "2      [chicken, teriyaki, rosalía, usain, boo, kodak...\n",
       "3      [go, cat, burns, she, all, wanna, be, tate, mc...\n",
       "4      [mount, everest, labrinth, middle, of, the, ni...\n",
       "                             ...                        \n",
       "195    [vía, láctea, zoé, irresponsables, babasónicos...\n",
       "196    [hash, pipe, weezer, celebrity, skin, hole, ar...\n",
       "197    [bullet, with, butterfly, wings, remastered, t...\n",
       "198    [good, riddance, time, of, your, life, green, ...\n",
       "199    [smile, wolf, alice, its, alright, kevin, walk...\n",
       "Name: playlist, Length: 200, dtype: object"
      ]
     },
     "execution_count": 18,
     "metadata": {},
     "output_type": "execute_result"
    }
   ],
   "source": [
    "playlist = df.playlist.apply(gensim.utils.simple_preprocess)\n",
    "playlist"
   ]
  },
  {
   "cell_type": "code",
   "execution_count": 19,
   "id": "96ccc239-c36c-4a69-87c1-752737495a12",
   "metadata": {},
   "outputs": [],
   "source": [
    "model = gensim.models.Word2Vec(\n",
    "    window=10,\n",
    "    min_count=2,\n",
    "    workers=4\n",
    ")"
   ]
  },
  {
   "cell_type": "code",
   "execution_count": 21,
   "id": "66f2637b-bdc1-4dea-8e4c-e810eec38b65",
   "metadata": {},
   "outputs": [],
   "source": [
    "model.build_vocab(playlist, progress_per=1000)"
   ]
  },
  {
   "cell_type": "code",
   "execution_count": 22,
   "id": "88ffff70-705a-45d2-9ccd-ad00d2c67f85",
   "metadata": {},
   "outputs": [
    {
     "data": {
      "text/plain": [
       "5"
      ]
     },
     "execution_count": 22,
     "metadata": {},
     "output_type": "execute_result"
    }
   ],
   "source": [
    "model.epochs"
   ]
  },
  {
   "cell_type": "code",
   "execution_count": 23,
   "id": "f8d4377c-d275-4ae6-bc10-76cc85f636ae",
   "metadata": {},
   "outputs": [
    {
     "data": {
      "text/plain": [
       "200"
      ]
     },
     "execution_count": 23,
     "metadata": {},
     "output_type": "execute_result"
    }
   ],
   "source": [
    "model.corpus_count"
   ]
  },
  {
   "cell_type": "code",
   "execution_count": 24,
   "id": "bfd19d42-4b17-45ae-9876-9141ca1ea52f",
   "metadata": {},
   "outputs": [
    {
     "data": {
      "text/plain": [
       "(343330, 402115)"
      ]
     },
     "execution_count": 24,
     "metadata": {},
     "output_type": "execute_result"
    }
   ],
   "source": [
    "model.train(playlist, total_examples=model.corpus_count, epochs=model.epochs)"
   ]
  },
  {
   "cell_type": "code",
   "execution_count": 30,
   "id": "d46aeae3-c83c-44ec-9b0c-63143396e7f1",
   "metadata": {},
   "outputs": [
    {
     "data": {
      "text/plain": [
       "array([[-0.3943806 ,  0.12394643,  0.07046469, ..., -0.31165636,\n",
       "        -0.2348632 , -0.14245756],\n",
       "       [-0.50555813,  0.16056477,  0.08717586, ..., -0.38697568,\n",
       "        -0.30969104, -0.18127958],\n",
       "       [-0.6876205 ,  0.22002119,  0.10509502, ..., -0.5316136 ,\n",
       "        -0.40480646, -0.266519  ],\n",
       "       ...,\n",
       "       [-0.10574312,  0.03102683,  0.01986708, ..., -0.09099478,\n",
       "        -0.06987097, -0.03513696],\n",
       "       [-0.25233012,  0.0941081 ,  0.03385782, ..., -0.19368301,\n",
       "        -0.16607212, -0.10819558],\n",
       "       [-0.20890875,  0.06279965,  0.03464428, ..., -0.14860454,\n",
       "        -0.11691155, -0.06463688]], dtype=float32)"
      ]
     },
     "execution_count": 30,
     "metadata": {},
     "output_type": "execute_result"
    }
   ],
   "source": [
    "model.wv[playlist[0]]"
   ]
  },
  {
   "cell_type": "code",
   "execution_count": 32,
   "id": "20810ca5-0d37-4c62-8707-10656b4d0a8f",
   "metadata": {},
   "outputs": [
    {
     "data": {
      "text/plain": [
       "array([[-0.40036762,  0.13136783,  0.07245627, ..., -0.32305455,\n",
       "        -0.24876761, -0.14951962],\n",
       "       [-0.1313086 ,  0.04469064,  0.01200642, ..., -0.09438103,\n",
       "        -0.07211262, -0.05008363],\n",
       "       [-0.15024027,  0.04305934,  0.01933489, ..., -0.10994247,\n",
       "        -0.08216745, -0.05321605],\n",
       "       ...,\n",
       "       [-0.17122744,  0.05289279,  0.02968975, ..., -0.12570916,\n",
       "        -0.10801583, -0.06864376],\n",
       "       [-1.1463795 ,  0.39179462,  0.16560316, ..., -0.94404566,\n",
       "        -0.7410337 , -0.46997336],\n",
       "       [-0.2014305 ,  0.06789634,  0.04019691, ..., -0.15208685,\n",
       "        -0.12562342, -0.08002275]], dtype=float32)"
      ]
     },
     "execution_count": 32,
     "metadata": {},
     "output_type": "execute_result"
    }
   ],
   "source": [
    "model.wv[playlist[61]]"
   ]
  },
  {
   "cell_type": "code",
   "execution_count": null,
   "id": "0fbaece3-b059-492b-8912-7aac20e3afd1",
   "metadata": {},
   "outputs": [],
   "source": []
  }
 ],
 "metadata": {
  "kernelspec": {
   "display_name": "Python 3 (ipykernel)",
   "language": "python",
   "name": "python3"
  },
  "language_info": {
   "codemirror_mode": {
    "name": "ipython",
    "version": 3
   },
   "file_extension": ".py",
   "mimetype": "text/x-python",
   "name": "python",
   "nbconvert_exporter": "python",
   "pygments_lexer": "ipython3",
   "version": "3.8.9"
  }
 },
 "nbformat": 4,
 "nbformat_minor": 5
}
